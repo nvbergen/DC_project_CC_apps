{
 "cells": [
  {
   "cell_type": "markdown",
   "metadata": {},
   "source": [
    "# Credit approvals\n"
   ]
  },
  {
   "cell_type": "markdown",
   "metadata": {},
   "source": [
    "Author: Nick Van Bergen <br><br>\n",
    "**To view fully rendered notebook click [here](https://nbviewer.org/github/nvbergen/DC_project_CC_apps/blob/0cca85c246ab882988ed215ff6a3b77b03b3d526/Code/Credit%20approval%20Project.ipynb)**\n",
    "\n",
    "This project inspired by guided project from [datacamp](https://app.datacamp.com/learn/projects/558). <br>\n",
    "The data souce is from [UCI Machine Learning Repository](https://archive.ics.uci.edu/ml/datasets/credit+approval) <br> \n",
    "\n",
    "\n",
    "\n"
   ]
  },
  {
   "cell_type": "markdown",
   "metadata": {},
   "source": [
    "<a id = \"top\"></a>\n",
    "\n",
    "---\n",
    "## Contents\n",
    "1. [Background and problem statement](#background)\n",
    "1. [Library Imports](#imports)\n",
    "1. [Data Ingestion](#ingest)\n",
    "    * Data Description\n",
    "    * Data set dictionary Column Names\n",
    "1. [Data set Inspection](#inspect)\n",
    "1. [Date Cleaning](#cleaning)\n",
    "1. [EDA](#eda)\n",
    "    * Location\n",
    "    * Variability\n",
    "    * Distribution\n",
    "    * Correlation\n",
    "1. Data Preprocessing\n",
    "1. Logistic Regression Classifier\n",
    "    1.  Fit\n",
    "    1. score \n",
    "    1. grid search\n",
    "1. [Conclusions and Recommendations](#conclusions)"
   ]
  },
  {
   "cell_type": "markdown",
   "metadata": {},
   "source": [
    "<a id = \"background\"></a>\n",
    "\n",
    "---\n",
    "## Background and problem statement.\n",
    "[[Back to contents]](#top) *-* [[Next Section: Library Imports]](#imports)<br> <br>\n",
    "There was a time when credit card applications were conducted in-person or over the phone. Data was collected by a human and then entered into the issuer's system for approval. The goal of a credit card issuer is to well _issue credit_. The issuer will earn a profit on the interest against the money borrowed. There are several risks to the issuer. One of these risks is issuing credit to a risky borrower whom fails in their contractual obligation to repay the lender. <br><br>\n",
    "Banks beleive that there are objective factors that can predict if a borrower is apt to fail in their obligation and thus influence an issuers decision to approve or decline a prospective borrower from a credit card. <br><br>\n",
    "There are operational risks associated with collecting and inputing data as well as decisioning the application if left totally up to a human operator. Thankfully, we can utilize some statistical learning methods on past applications to speed up the approval process. It is believed that most, if not all, credit issuers today utilize some form of **machine learning** to mitigate their business and operational risks. <br><br>\n",
    "**Problem Statement:** _Can machine learning provide us with an accurate solution to predict if a borrower will be approved fro credit cards or not?_ "
   ]
  },
  {
   "cell_type": "markdown",
   "metadata": {},
   "source": [
    "<a id = \"imports\"></a>\n",
    "\n",
    "---\n",
    "## Imports\n",
    "[[Back to contents]](#top) *-* [[Next Section: Data Ingestion]](#ingest)<br> <br>"
   ]
  },
  {
   "cell_type": "code",
   "execution_count": 1,
   "metadata": {},
   "outputs": [],
   "source": [
    "#analytical and visualization libraries\n",
    "import pandas as pd\n",
    "import numpy as np\n",
    "import matplotlib.pyplot as plt\n",
    "import seaborn as sns\n",
    "\n",
    "#modeling tools\n",
    "from sklearn.model_selection import train_test_split\n",
    "from sklearn.model_selection import GridSearchCV\n",
    "from sklearn.preprocessing import MinMaxScaler\n",
    "\n",
    "#model\n",
    "from sklearn.linear_model import LogisticRegression\n",
    "\n",
    "\n",
    "#model evaluations\n",
    "from sklearn.metrics import confusion_matrix"
   ]
  },
  {
   "cell_type": "markdown",
   "metadata": {},
   "source": [
    "<a id=\"ingest\"></a>\n",
    "\n",
    "---\n",
    "## Data Ingestion\n",
    "[[Back to contents]](#top) *-* [[Next Section: Data Inspection]](#inspect)<br> <br>"
   ]
  },
  {
   "cell_type": "code",
   "execution_count": 2,
   "metadata": {},
   "outputs": [],
   "source": [
    "apps = pd.read_csv(\"../data/crx.data\", header = None)"
   ]
  },
  {
   "cell_type": "code",
   "execution_count": 3,
   "metadata": {},
   "outputs": [
    {
     "data": {
      "text/html": [
       "<div>\n",
       "<style scoped>\n",
       "    .dataframe tbody tr th:only-of-type {\n",
       "        vertical-align: middle;\n",
       "    }\n",
       "\n",
       "    .dataframe tbody tr th {\n",
       "        vertical-align: top;\n",
       "    }\n",
       "\n",
       "    .dataframe thead th {\n",
       "        text-align: right;\n",
       "    }\n",
       "</style>\n",
       "<table border=\"1\" class=\"dataframe\">\n",
       "  <thead>\n",
       "    <tr style=\"text-align: right;\">\n",
       "      <th></th>\n",
       "      <th>0</th>\n",
       "      <th>1</th>\n",
       "      <th>2</th>\n",
       "      <th>3</th>\n",
       "      <th>4</th>\n",
       "      <th>5</th>\n",
       "      <th>6</th>\n",
       "      <th>7</th>\n",
       "      <th>8</th>\n",
       "      <th>9</th>\n",
       "      <th>10</th>\n",
       "      <th>11</th>\n",
       "      <th>12</th>\n",
       "      <th>13</th>\n",
       "      <th>14</th>\n",
       "      <th>15</th>\n",
       "    </tr>\n",
       "  </thead>\n",
       "  <tbody>\n",
       "    <tr>\n",
       "      <th>0</th>\n",
       "      <td>b</td>\n",
       "      <td>30.83</td>\n",
       "      <td>0.000</td>\n",
       "      <td>u</td>\n",
       "      <td>g</td>\n",
       "      <td>w</td>\n",
       "      <td>v</td>\n",
       "      <td>1.25</td>\n",
       "      <td>t</td>\n",
       "      <td>t</td>\n",
       "      <td>1</td>\n",
       "      <td>f</td>\n",
       "      <td>g</td>\n",
       "      <td>00202</td>\n",
       "      <td>0</td>\n",
       "      <td>+</td>\n",
       "    </tr>\n",
       "    <tr>\n",
       "      <th>1</th>\n",
       "      <td>a</td>\n",
       "      <td>58.67</td>\n",
       "      <td>4.460</td>\n",
       "      <td>u</td>\n",
       "      <td>g</td>\n",
       "      <td>q</td>\n",
       "      <td>h</td>\n",
       "      <td>3.04</td>\n",
       "      <td>t</td>\n",
       "      <td>t</td>\n",
       "      <td>6</td>\n",
       "      <td>f</td>\n",
       "      <td>g</td>\n",
       "      <td>00043</td>\n",
       "      <td>560</td>\n",
       "      <td>+</td>\n",
       "    </tr>\n",
       "    <tr>\n",
       "      <th>2</th>\n",
       "      <td>a</td>\n",
       "      <td>24.50</td>\n",
       "      <td>0.500</td>\n",
       "      <td>u</td>\n",
       "      <td>g</td>\n",
       "      <td>q</td>\n",
       "      <td>h</td>\n",
       "      <td>1.50</td>\n",
       "      <td>t</td>\n",
       "      <td>f</td>\n",
       "      <td>0</td>\n",
       "      <td>f</td>\n",
       "      <td>g</td>\n",
       "      <td>00280</td>\n",
       "      <td>824</td>\n",
       "      <td>+</td>\n",
       "    </tr>\n",
       "    <tr>\n",
       "      <th>3</th>\n",
       "      <td>b</td>\n",
       "      <td>27.83</td>\n",
       "      <td>1.540</td>\n",
       "      <td>u</td>\n",
       "      <td>g</td>\n",
       "      <td>w</td>\n",
       "      <td>v</td>\n",
       "      <td>3.75</td>\n",
       "      <td>t</td>\n",
       "      <td>t</td>\n",
       "      <td>5</td>\n",
       "      <td>t</td>\n",
       "      <td>g</td>\n",
       "      <td>00100</td>\n",
       "      <td>3</td>\n",
       "      <td>+</td>\n",
       "    </tr>\n",
       "    <tr>\n",
       "      <th>4</th>\n",
       "      <td>b</td>\n",
       "      <td>20.17</td>\n",
       "      <td>5.625</td>\n",
       "      <td>u</td>\n",
       "      <td>g</td>\n",
       "      <td>w</td>\n",
       "      <td>v</td>\n",
       "      <td>1.71</td>\n",
       "      <td>t</td>\n",
       "      <td>f</td>\n",
       "      <td>0</td>\n",
       "      <td>f</td>\n",
       "      <td>s</td>\n",
       "      <td>00120</td>\n",
       "      <td>0</td>\n",
       "      <td>+</td>\n",
       "    </tr>\n",
       "  </tbody>\n",
       "</table>\n",
       "</div>"
      ],
      "text/plain": [
       "  0      1      2  3  4  5  6     7  8  9   10 11 12     13   14 15\n",
       "0  b  30.83  0.000  u  g  w  v  1.25  t  t   1  f  g  00202    0  +\n",
       "1  a  58.67  4.460  u  g  q  h  3.04  t  t   6  f  g  00043  560  +\n",
       "2  a  24.50  0.500  u  g  q  h  1.50  t  f   0  f  g  00280  824  +\n",
       "3  b  27.83  1.540  u  g  w  v  3.75  t  t   5  t  g  00100    3  +\n",
       "4  b  20.17  5.625  u  g  w  v  1.71  t  f   0  f  s  00120    0  +"
      ]
     },
     "execution_count": 3,
     "metadata": {},
     "output_type": "execute_result"
    }
   ],
   "source": [
    "apps.head()"
   ]
  },
  {
   "cell_type": "markdown",
   "metadata": {},
   "source": [
    "### Data Descriptions\n",
    "\n",
    "The data set has been **anonymized** to protect sensitive information under general view of public analysts. <br> \n",
    "> This file concerns credit card applications. All attribute names and values have been changed to meaningless symbols to protect confidentiality of the data. <br>"
   ]
  },
  {
   "cell_type": "markdown",
   "metadata": {},
   "source": [
    "### Column Names\n",
    "The website does offer an appropriate description of the columns. However, per above, there is no way to build an intuition from the information at hand. \n",
    "\n",
    ">Attribute Information:<br>\n",
    "A0: b, a. <br>\n",
    "A1: continuous. <br>\n",
    "A2: continuous. <br>\n",
    "A3: u, y, l, t. <br>\n",
    "A4: g, p, gg. <br>\n",
    "A5: c, d, cc, i, j, k, m, r, q, w, x, e, aa, ff. <br>\n",
    "A6: v, h, bb, j, n, z, dd, ff, o. <br>\n",
    "A7: continuous. <br>\n",
    "A8: t, f. <br>\n",
    "A9: t, f. <br>\n",
    "A10: continuous. <br>\n",
    "A11: t, f. <br>\n",
    "A12: g, p, s. <br>\n",
    "A13: continuous. <br>\n",
    "A14: continuous. <br>\n",
    "A15: +,- (class attribute)<br>\n",
    "\n",
    "[Source](https://archive.ics.uci.edu/ml/datasets/credit+approval) <br>\n",
    "<br>\n",
    "There are many notebooks that explain _probable_ feature names. One such blog describes the features, in order, as:\n",
    ">Probable Feature Names: <br> \n",
    "A0: `Gender` <br>\n",
    "A1: `Age` <br>\n",
    "A2: `Debt` <br>\n",
    "A3: `Married` <br>\n",
    "A4: `BankCustomer` <br>\n",
    "A5: `EducationLevel` <br>\n",
    "A6: `Ethnicity` <br>\n",
    "A7: `YearsEmployed` <br>\n",
    "A8: `PriorDefault` <br>\n",
    "A9: `Employed` <br>\n",
    "A10: `CreditScore` <br>\n",
    "A11: `DriversLicense` <br>\n",
    "A12: `Citizen` <br>\n",
    "A13: `ZipCode` <br>\n",
    "A14: `Income` <br>\n",
    "A15: `ApprovalStatus.` <br> \n",
    "\n",
    "[Source](http://rstudio-pubs-static.s3.amazonaws.com/73039_9946de135c0a49daa7a0a9eda4a67a72.html)"
   ]
  },
  {
   "cell_type": "markdown",
   "metadata": {},
   "source": [
    "### Data Dictionary and column headings\n",
    "\n",
    "Using the above information we will develop a full data dictionary below and map to our dataframe:\n",
    "\n",
    "| Index | Feature name*    | Type                  | Value Range                                                             |                     Notes                     |\n",
    "|:-----:|------------------|-----------------------|-------------------------------------------------------------------------|:---------------------------------------------:|\n",
    "| 0     | _Gender_         | Categorical           | `b`, `a`                                                                | Definitions unknown                           |\n",
    "| 1     | _Age_            | Numeric, Continuous   |                                                                         | Decimalized, in years                         |\n",
    "| 2     | _Debt_           | Numeric, Continuous   |                                                                         | Definitions unknown                           |\n",
    "| 3     | _Married_        | Categorical           | `u`, `y`, `l`, `t`                                                      | Definitions unknown                           |\n",
    "| 4     | _BankCustomer_   | Categorical           | `g`, `p`, `gg`                                                          | Definitions unknown                           |\n",
    "| 5     | _EducationLevel_ | Categorical           | `c`, `d`, `cc`, `i`, `j`, `k`, `m`, `r`, `q`, `w`, `x`, `e`, `aa`, `ff` | Definitions unknown                           |\n",
    "| 6     | _Ethnicity_      | Categorical           | `v`, `h`, `bb`, `j`, `n`, `z`, `dd`, `ff`, `o`                          | Definitions unknown                           |\n",
    "| 7     | _YearsEmployed_  | Numeric, Continuous   |                                                                         | Decimalized, in years                         |\n",
    "| 8     | _PriorDefault_   | Categorical           | `t`, `f`                                                                | True = `t` = 1 <br> False = `f` = 0            |\n",
    "| 9     | _Employed_       | Categorical           | `t`, `f`                                                                | True =  `t` = 1 <br> False = `f` = 0            |\n",
    "| 10    | _CreditScore_    | Numeric, Continuous   |                                                                         |                                               |\n",
    "| 11    | _DriversLicense_ | Categorical           | `t`,`f`                                                                 | True =  `t` = 1 <br> False = `f` = 0            |\n",
    "| 12    | _Citizen_        | Categorical           | `g`, `p`, `s`                                                           | Unknown Definition                            |\n",
    "| 13    | _ZipCode_        | Numeric, **discrete** |                                                                         | This should be **Categorical** and non-numeric                                              |\n",
    "| 14    | _Income_         | Numeric, Continuous   |                                                                         |                                               |\n",
    "| 15    | _ApprovalStatus_ | Categorical           | `+`,`-`                                                                 | `+` = Approved = 1 <br>  `-` = Not Approved = 0 |"
   ]
  },
  {
   "cell_type": "code",
   "execution_count": 4,
   "metadata": {},
   "outputs": [
    {
     "data": {
      "text/html": [
       "<div>\n",
       "<style scoped>\n",
       "    .dataframe tbody tr th:only-of-type {\n",
       "        vertical-align: middle;\n",
       "    }\n",
       "\n",
       "    .dataframe tbody tr th {\n",
       "        vertical-align: top;\n",
       "    }\n",
       "\n",
       "    .dataframe thead th {\n",
       "        text-align: right;\n",
       "    }\n",
       "</style>\n",
       "<table border=\"1\" class=\"dataframe\">\n",
       "  <thead>\n",
       "    <tr style=\"text-align: right;\">\n",
       "      <th></th>\n",
       "      <th>Gender</th>\n",
       "      <th>Age</th>\n",
       "      <th>Debt</th>\n",
       "      <th>Married</th>\n",
       "      <th>BankCustomer</th>\n",
       "      <th>EducationLevel</th>\n",
       "      <th>Ethnicity</th>\n",
       "      <th>YearsEmployed</th>\n",
       "      <th>PriorDefault</th>\n",
       "      <th>Employed</th>\n",
       "      <th>CreditScore</th>\n",
       "      <th>DriversLicense</th>\n",
       "      <th>Citizen</th>\n",
       "      <th>ZipCode</th>\n",
       "      <th>Income</th>\n",
       "      <th>ApprovalStatus</th>\n",
       "    </tr>\n",
       "  </thead>\n",
       "  <tbody>\n",
       "    <tr>\n",
       "      <th>0</th>\n",
       "      <td>b</td>\n",
       "      <td>30.83</td>\n",
       "      <td>0.00</td>\n",
       "      <td>u</td>\n",
       "      <td>g</td>\n",
       "      <td>w</td>\n",
       "      <td>v</td>\n",
       "      <td>1.25</td>\n",
       "      <td>t</td>\n",
       "      <td>t</td>\n",
       "      <td>1</td>\n",
       "      <td>f</td>\n",
       "      <td>g</td>\n",
       "      <td>00202</td>\n",
       "      <td>0</td>\n",
       "      <td>+</td>\n",
       "    </tr>\n",
       "    <tr>\n",
       "      <th>1</th>\n",
       "      <td>a</td>\n",
       "      <td>58.67</td>\n",
       "      <td>4.46</td>\n",
       "      <td>u</td>\n",
       "      <td>g</td>\n",
       "      <td>q</td>\n",
       "      <td>h</td>\n",
       "      <td>3.04</td>\n",
       "      <td>t</td>\n",
       "      <td>t</td>\n",
       "      <td>6</td>\n",
       "      <td>f</td>\n",
       "      <td>g</td>\n",
       "      <td>00043</td>\n",
       "      <td>560</td>\n",
       "      <td>+</td>\n",
       "    </tr>\n",
       "    <tr>\n",
       "      <th>2</th>\n",
       "      <td>a</td>\n",
       "      <td>24.50</td>\n",
       "      <td>0.50</td>\n",
       "      <td>u</td>\n",
       "      <td>g</td>\n",
       "      <td>q</td>\n",
       "      <td>h</td>\n",
       "      <td>1.50</td>\n",
       "      <td>t</td>\n",
       "      <td>f</td>\n",
       "      <td>0</td>\n",
       "      <td>f</td>\n",
       "      <td>g</td>\n",
       "      <td>00280</td>\n",
       "      <td>824</td>\n",
       "      <td>+</td>\n",
       "    </tr>\n",
       "  </tbody>\n",
       "</table>\n",
       "</div>"
      ],
      "text/plain": [
       "  Gender    Age  Debt Married BankCustomer EducationLevel Ethnicity  \\\n",
       "0      b  30.83  0.00       u            g              w         v   \n",
       "1      a  58.67  4.46       u            g              q         h   \n",
       "2      a  24.50  0.50       u            g              q         h   \n",
       "\n",
       "   YearsEmployed PriorDefault Employed  CreditScore DriversLicense Citizen  \\\n",
       "0           1.25            t        t            1              f       g   \n",
       "1           3.04            t        t            6              f       g   \n",
       "2           1.50            t        f            0              f       g   \n",
       "\n",
       "  ZipCode  Income ApprovalStatus  \n",
       "0   00202       0              +  \n",
       "1   00043     560              +  \n",
       "2   00280     824              +  "
      ]
     },
     "execution_count": 4,
     "metadata": {},
     "output_type": "execute_result"
    }
   ],
   "source": [
    "#apply new column names to dataframe\n",
    "apps.columns = [\"Gender\", \"Age\", \"Debt\", \n",
    "\"Married\", \"BankCustomer\", \"EducationLevel\", \n",
    "\"Ethnicity\", \"YearsEmployed\", \"PriorDefault\", \n",
    "\"Employed\", \"CreditScore\", \"DriversLicense\", \n",
    "\"Citizen\", \"ZipCode\", \"Income\", \"ApprovalStatus\"]\n",
    "apps.head(3)"
   ]
  },
  {
   "cell_type": "markdown",
   "metadata": {},
   "source": [
    "<a id=\"inspect\"></a>\n",
    "\n",
    "---\n",
    "## Data Inspection\n",
    "[[Back to contents]](#top) *-* [[Next Section]](#next)<br> <br>\n",
    "In this section, I would like to inspect the dataset.  This section has the goal of getting a general understanding of how the data is typed and these datatypes match our expectations against the data dictionary.  \n"
   ]
  },
  {
   "cell_type": "code",
   "execution_count": 5,
   "metadata": {},
   "outputs": [
    {
     "name": "stdout",
     "output_type": "stream",
     "text": [
      "<class 'pandas.core.frame.DataFrame'>\n",
      "RangeIndex: 690 entries, 0 to 689\n",
      "Data columns (total 16 columns):\n",
      " #   Column          Non-Null Count  Dtype  \n",
      "---  ------          --------------  -----  \n",
      " 0   Gender          690 non-null    object \n",
      " 1   Age             690 non-null    object \n",
      " 2   Debt            690 non-null    float64\n",
      " 3   Married         690 non-null    object \n",
      " 4   BankCustomer    690 non-null    object \n",
      " 5   EducationLevel  690 non-null    object \n",
      " 6   Ethnicity       690 non-null    object \n",
      " 7   YearsEmployed   690 non-null    float64\n",
      " 8   PriorDefault    690 non-null    object \n",
      " 9   Employed        690 non-null    object \n",
      " 10  CreditScore     690 non-null    int64  \n",
      " 11  DriversLicense  690 non-null    object \n",
      " 12  Citizen         690 non-null    object \n",
      " 13  ZipCode         690 non-null    object \n",
      " 14  Income          690 non-null    int64  \n",
      " 15  ApprovalStatus  690 non-null    object \n",
      "dtypes: float64(2), int64(2), object(12)\n",
      "memory usage: 86.4+ KB\n"
     ]
    }
   ],
   "source": [
    "apps.info()"
   ]
  },
  {
   "cell_type": "markdown",
   "metadata": {},
   "source": [
    "Right away we see that there are some `Dtypes` that are `objects` that don't match our expectations. `Age` and `ZipCode` should be numeric. \n",
    "The `df.describe()` method is used here to evaluate all of our expected numeric features and provide basic descriptive statistics. I am looking at anything that is _highly_ unusual here. That is, I am looking to get a sense of where data is and how far apart datavalues are from one another. "
   ]
  },
  {
   "cell_type": "code",
   "execution_count": 6,
   "metadata": {},
   "outputs": [
    {
     "data": {
      "text/html": [
       "<div>\n",
       "<style scoped>\n",
       "    .dataframe tbody tr th:only-of-type {\n",
       "        vertical-align: middle;\n",
       "    }\n",
       "\n",
       "    .dataframe tbody tr th {\n",
       "        vertical-align: top;\n",
       "    }\n",
       "\n",
       "    .dataframe thead th {\n",
       "        text-align: right;\n",
       "    }\n",
       "</style>\n",
       "<table border=\"1\" class=\"dataframe\">\n",
       "  <thead>\n",
       "    <tr style=\"text-align: right;\">\n",
       "      <th></th>\n",
       "      <th>Debt</th>\n",
       "      <th>YearsEmployed</th>\n",
       "      <th>CreditScore</th>\n",
       "      <th>Income</th>\n",
       "    </tr>\n",
       "  </thead>\n",
       "  <tbody>\n",
       "    <tr>\n",
       "      <th>count</th>\n",
       "      <td>690.000000</td>\n",
       "      <td>690.000000</td>\n",
       "      <td>690.00000</td>\n",
       "      <td>690.000000</td>\n",
       "    </tr>\n",
       "    <tr>\n",
       "      <th>mean</th>\n",
       "      <td>4.758725</td>\n",
       "      <td>2.223406</td>\n",
       "      <td>2.40000</td>\n",
       "      <td>1017.385507</td>\n",
       "    </tr>\n",
       "    <tr>\n",
       "      <th>std</th>\n",
       "      <td>4.978163</td>\n",
       "      <td>3.346513</td>\n",
       "      <td>4.86294</td>\n",
       "      <td>5210.102598</td>\n",
       "    </tr>\n",
       "    <tr>\n",
       "      <th>min</th>\n",
       "      <td>0.000000</td>\n",
       "      <td>0.000000</td>\n",
       "      <td>0.00000</td>\n",
       "      <td>0.000000</td>\n",
       "    </tr>\n",
       "    <tr>\n",
       "      <th>25%</th>\n",
       "      <td>1.000000</td>\n",
       "      <td>0.165000</td>\n",
       "      <td>0.00000</td>\n",
       "      <td>0.000000</td>\n",
       "    </tr>\n",
       "    <tr>\n",
       "      <th>50%</th>\n",
       "      <td>2.750000</td>\n",
       "      <td>1.000000</td>\n",
       "      <td>0.00000</td>\n",
       "      <td>5.000000</td>\n",
       "    </tr>\n",
       "    <tr>\n",
       "      <th>75%</th>\n",
       "      <td>7.207500</td>\n",
       "      <td>2.625000</td>\n",
       "      <td>3.00000</td>\n",
       "      <td>395.500000</td>\n",
       "    </tr>\n",
       "    <tr>\n",
       "      <th>max</th>\n",
       "      <td>28.000000</td>\n",
       "      <td>28.500000</td>\n",
       "      <td>67.00000</td>\n",
       "      <td>100000.000000</td>\n",
       "    </tr>\n",
       "  </tbody>\n",
       "</table>\n",
       "</div>"
      ],
      "text/plain": [
       "             Debt  YearsEmployed  CreditScore         Income\n",
       "count  690.000000     690.000000    690.00000     690.000000\n",
       "mean     4.758725       2.223406      2.40000    1017.385507\n",
       "std      4.978163       3.346513      4.86294    5210.102598\n",
       "min      0.000000       0.000000      0.00000       0.000000\n",
       "25%      1.000000       0.165000      0.00000       0.000000\n",
       "50%      2.750000       1.000000      0.00000       5.000000\n",
       "75%      7.207500       2.625000      3.00000     395.500000\n",
       "max     28.000000      28.500000     67.00000  100000.000000"
      ]
     },
     "execution_count": 6,
     "metadata": {},
     "output_type": "execute_result"
    }
   ],
   "source": [
    "apps.describe()"
   ]
  },
  {
   "cell_type": "code",
   "execution_count": 7,
   "metadata": {},
   "outputs": [
    {
     "data": {
      "image/png": "[encoded data removed]",
      "text/plain": [
       "<Figure size 803.875x720 with 20 Axes>"
      ]
     },
     "metadata": {
      "needs_background": "light"
     },
     "output_type": "display_data"
    }
   ],
   "source": [
    "sns.pairplot(data = apps, hue = 'ApprovalStatus', hue_order = ['-', '+'], plot_kws={'alpha':.45});"
   ]
  },
  {
   "cell_type": "markdown",
   "metadata": {},
   "source": [
    "I am supposed to have 6 numeric variables, and the `df.describe()` method only returned four. <br><br>\n",
    "The `df.describe()` method is useful because, by default it will take the _numeric_ columns automatically. After applying this method, we see that only _Debt_, _YearsEmployed_, _CreditScore_, and _Income_ were returned. <br><br>\n",
    "I am missing _Age_ and _ZipCode_, which were not returned due to the datatype being `object` as opposed to `int` or `float`."
   ]
  },
  {
   "cell_type": "code",
   "execution_count": 8,
   "metadata": {},
   "outputs": [
    {
     "data": {
      "text/html": [
       "<div>\n",
       "<style scoped>\n",
       "    .dataframe tbody tr th:only-of-type {\n",
       "        vertical-align: middle;\n",
       "    }\n",
       "\n",
       "    .dataframe tbody tr th {\n",
       "        vertical-align: top;\n",
       "    }\n",
       "\n",
       "    .dataframe thead th {\n",
       "        text-align: right;\n",
       "    }\n",
       "</style>\n",
       "<table border=\"1\" class=\"dataframe\">\n",
       "  <thead>\n",
       "    <tr style=\"text-align: right;\">\n",
       "      <th></th>\n",
       "      <th>Age</th>\n",
       "      <th>ApprovalStatus</th>\n",
       "      <th>BankCustomer</th>\n",
       "      <th>Citizen</th>\n",
       "      <th>DriversLicense</th>\n",
       "      <th>EducationLevel</th>\n",
       "      <th>Employed</th>\n",
       "      <th>Ethnicity</th>\n",
       "      <th>Gender</th>\n",
       "      <th>Married</th>\n",
       "      <th>PriorDefault</th>\n",
       "      <th>ZipCode</th>\n",
       "    </tr>\n",
       "  </thead>\n",
       "  <tbody>\n",
       "    <tr>\n",
       "      <th>count</th>\n",
       "      <td>690</td>\n",
       "      <td>690</td>\n",
       "      <td>690</td>\n",
       "      <td>690</td>\n",
       "      <td>690</td>\n",
       "      <td>690</td>\n",
       "      <td>690</td>\n",
       "      <td>690</td>\n",
       "      <td>690</td>\n",
       "      <td>690</td>\n",
       "      <td>690</td>\n",
       "      <td>690</td>\n",
       "    </tr>\n",
       "    <tr>\n",
       "      <th>unique</th>\n",
       "      <td>350</td>\n",
       "      <td>2</td>\n",
       "      <td>4</td>\n",
       "      <td>3</td>\n",
       "      <td>2</td>\n",
       "      <td>15</td>\n",
       "      <td>2</td>\n",
       "      <td>10</td>\n",
       "      <td>3</td>\n",
       "      <td>4</td>\n",
       "      <td>2</td>\n",
       "      <td>171</td>\n",
       "    </tr>\n",
       "    <tr>\n",
       "      <th>top</th>\n",
       "      <td>?</td>\n",
       "      <td>-</td>\n",
       "      <td>g</td>\n",
       "      <td>g</td>\n",
       "      <td>f</td>\n",
       "      <td>c</td>\n",
       "      <td>f</td>\n",
       "      <td>v</td>\n",
       "      <td>b</td>\n",
       "      <td>u</td>\n",
       "      <td>t</td>\n",
       "      <td>00000</td>\n",
       "    </tr>\n",
       "    <tr>\n",
       "      <th>freq</th>\n",
       "      <td>12</td>\n",
       "      <td>383</td>\n",
       "      <td>519</td>\n",
       "      <td>625</td>\n",
       "      <td>374</td>\n",
       "      <td>137</td>\n",
       "      <td>395</td>\n",
       "      <td>399</td>\n",
       "      <td>468</td>\n",
       "      <td>519</td>\n",
       "      <td>361</td>\n",
       "      <td>132</td>\n",
       "    </tr>\n",
       "  </tbody>\n",
       "</table>\n",
       "</div>"
      ],
      "text/plain": [
       "        Age ApprovalStatus BankCustomer Citizen DriversLicense EducationLevel  \\\n",
       "count   690            690          690     690            690            690   \n",
       "unique  350              2            4       3              2             15   \n",
       "top       ?              -            g       g              f              c   \n",
       "freq     12            383          519     625            374            137   \n",
       "\n",
       "       Employed Ethnicity Gender Married PriorDefault ZipCode  \n",
       "count       690       690    690     690          690     690  \n",
       "unique        2        10      3       4            2     171  \n",
       "top           f         v      b       u            t   00000  \n",
       "freq        395       399    468     519          361     132  "
      ]
     },
     "execution_count": 8,
     "metadata": {},
     "output_type": "execute_result"
    }
   ],
   "source": [
    "#using .difference() we can exclude normally numeric columns and use .describe() on our categorical features. \n",
    "cats = apps[apps.columns.difference(list(apps.describe().columns))]\n",
    "cats.describe()"
   ]
  },
  {
   "cell_type": "markdown",
   "metadata": {},
   "source": [
    "The above process shows we got lucky with _Age_ column showing that there are 12 values that take the `?` form. <br><br>\n",
    "Aslo, of note in the _ZipCode_ column is the value `00000` which indicates a missing value and the fact that this column has taken the datatype `object`. <br>Is this datatyping **incorrect** though? At least for _ZipCode_ it seems appropriate to not attempt to describe this data numerically since the number only represents a physical location and not a measurement. <br><br>\n",
    "We will still need to find and deal with missing values in our dataset before we can explore the data in more detail. "
   ]
  },
  {
   "cell_type": "markdown",
   "metadata": {},
   "source": [
    "<a id=\"cleaning\"></a>\n",
    "\n",
    "---\n",
    "## Data Cleaning\n",
    "[[Back to contents]](#top) *-* [[Next Section: EDA]](#EDA)<br> <br>\n",
    "We are hunting down missing values and addressing them by ascribing the `np.nan()` type to the datum that is missing.<br><br> \n",
    "We can do this rather easily, however, there are some other things that should be checked, or verified in this step. <br>\n",
    "<br>\n",
    "The goals of this section are to identify values that are truly missing and to ensure that datatypes make sense given our codebook. \n"
   ]
  },
  {
   "cell_type": "markdown",
   "metadata": {},
   "source": [
    "### First column investigation: _Gender_\n",
    "The data dictionary shows that there should only be two values `b` or `a` in our first column _Gender_."
   ]
  },
  {
   "cell_type": "code",
   "execution_count": 9,
   "metadata": {},
   "outputs": [
    {
     "data": {
      "text/plain": [
       "count     690\n",
       "unique      3\n",
       "top         b\n",
       "freq      468\n",
       "Name: Gender, dtype: object"
      ]
     },
     "execution_count": 9,
     "metadata": {},
     "output_type": "execute_result"
    }
   ],
   "source": [
    "apps['Gender'].describe()"
   ]
  },
  {
   "cell_type": "markdown",
   "metadata": {},
   "source": [
    "Seeing that we have 3 values instead of 2: lets see what they are."
   ]
  },
  {
   "cell_type": "code",
   "execution_count": 10,
   "metadata": {},
   "outputs": [
    {
     "data": {
      "text/plain": [
       "array(['b', 'a', '?'], dtype=object)"
      ]
     },
     "execution_count": 10,
     "metadata": {},
     "output_type": "execute_result"
    }
   ],
   "source": [
    "apps['Gender'].unique()"
   ]
  },
  {
   "cell_type": "markdown",
   "metadata": {},
   "source": [
    "I will replace obvious missing values with numpy's `NaN` data type in the _Gender_ column."
   ]
  },
  {
   "cell_type": "code",
   "execution_count": 11,
   "metadata": {},
   "outputs": [],
   "source": [
    "apps['Gender'] = apps['Gender'].replace('?', np.nan)"
   ]
  },
  {
   "cell_type": "code",
   "execution_count": 12,
   "metadata": {},
   "outputs": [
    {
     "data": {
      "text/plain": [
       "12"
      ]
     },
     "execution_count": 12,
     "metadata": {},
     "output_type": "execute_result"
    }
   ],
   "source": [
    "apps['Gender'].isna().sum()"
   ]
  },
  {
   "cell_type": "markdown",
   "metadata": {},
   "source": [
    "Going forward, in each column, replacing `?` with `np.nan` using the same method above afterwhich we can see the total number of missing values and their proportion to the overall dataset."
   ]
  },
  {
   "cell_type": "code",
   "execution_count": 13,
   "metadata": {},
   "outputs": [],
   "source": [
    "apps = apps.replace('?', np.nan)"
   ]
  },
  {
   "cell_type": "code",
   "execution_count": 14,
   "metadata": {},
   "outputs": [
    {
     "name": "stdout",
     "output_type": "stream",
     "text": [
      "Gender            12\n",
      "Age               12\n",
      "Debt               0\n",
      "Married            6\n",
      "BankCustomer       6\n",
      "EducationLevel     9\n",
      "Ethnicity          9\n",
      "YearsEmployed      0\n",
      "PriorDefault       0\n",
      "Employed           0\n",
      "CreditScore        0\n",
      "DriversLicense     0\n",
      "Citizen            0\n",
      "ZipCode           13\n",
      "Income             0\n",
      "ApprovalStatus     0\n",
      "dtype: int64\n",
      "total number NaN values is  67\n",
      "Proportion of NaN to data set is  0.09710144927536232\n"
     ]
    }
   ],
   "source": [
    "print(apps.isna().sum())\n",
    "print('total number NaN values is ', apps.isna().sum().sum())\n",
    "print(\"Proportion of NaN to data set is \", apps.isna().sum().sum() / len(apps['Debt']))"
   ]
  },
  {
   "cell_type": "markdown",
   "metadata": {},
   "source": [
    "Now, in dealing with these missing values. <br><br> \n",
    "An option is to drop the rows containing `NaN` values, however this can be problematic because we are removing otherwise potentially useful data. <br><br>\n",
    "Another option is interpolate the data. The general approach is to separate numerical and non-numerical data with numerical data taking some representative value (for example, Mean, Median, or Mode are good candidates) as a _\"best guess\"_ for the missing value. <br><br>\n",
    "Non-Numeric value interpolation can be trickier and dependent on the dataset on which value to _fill_ with. Should it be the most frequent observation, or some other designation."
   ]
  },
  {
   "cell_type": "markdown",
   "metadata": {},
   "source": [
    "#### Interpolation: _Gender_\n",
    "_Gender_ is a categorical variable taking only one of two values. Let's look at the balance of values again using `pd.value_counts()` to determine the columns balance."
   ]
  },
  {
   "cell_type": "code",
   "execution_count": 15,
   "metadata": {},
   "outputs": [
    {
     "data": {
      "text/plain": [
       "b    468\n",
       "a    210\n",
       "Name: Gender, dtype: int64"
      ]
     },
     "execution_count": 15,
     "metadata": {},
     "output_type": "execute_result"
    }
   ],
   "source": [
    "apps['Gender'].value_counts()"
   ]
  },
  {
   "cell_type": "markdown",
   "metadata": {},
   "source": [
    "We know that the number of missing values is 12. Adding 12 to the total values with the `b` (most frequent). Whatever `b` means in reality is not known to us, so let's just add the new `b` values using the `pd.fillna()` method on the _Gender_ series."
   ]
  },
  {
   "cell_type": "code",
   "execution_count": 16,
   "metadata": {},
   "outputs": [
    {
     "name": "stdout",
     "output_type": "stream",
     "text": [
      "b    480\n",
      "a    210\n",
      "Name: Gender, dtype: int64\n",
      "Total Null values:  0\n"
     ]
    }
   ],
   "source": [
    "apps['Gender'] = apps['Gender'].fillna(apps['Gender'].value_counts().index[0])\n",
    "print(apps['Gender'].value_counts())\n",
    "print(\"Total Null values: \", apps['Gender'].isnull().sum())"
   ]
  },
  {
   "cell_type": "markdown",
   "metadata": {},
   "source": [
    "### Remaining columns\n",
    "I will go through each column to attempt to understand the ranges of data and see if we can identify any other obvious candidates to be `missing` values. "
   ]
  },
  {
   "cell_type": "markdown",
   "metadata": {},
   "source": [
    "#### Column: _Age_\n",
    "This is supposed to be a numeric column that is continuous. However, the pandas library has read it as an `object` datatype because of the insertion of of the string `'?'`. Now, we have already done the task of replacing the string with `NaN`, however the column is still as a `dtype = object` I will first cast this series to a float, then I will interpolate the missing values. "
   ]
  },
  {
   "cell_type": "code",
   "execution_count": 17,
   "metadata": {},
   "outputs": [
    {
     "data": {
      "text/plain": [
       "count       678\n",
       "unique      349\n",
       "top       22.67\n",
       "freq          9\n",
       "Name: Age, dtype: object"
      ]
     },
     "execution_count": 17,
     "metadata": {},
     "output_type": "execute_result"
    }
   ],
   "source": [
    "apps['Age'].describe()"
   ]
  },
  {
   "cell_type": "markdown",
   "metadata": {},
   "source": [
    "The `apps['Age'].describe()` method indicates this is an object column when it should be numeric. I will cast these values as float64's. "
   ]
  },
  {
   "cell_type": "code",
   "execution_count": 18,
   "metadata": {},
   "outputs": [
    {
     "data": {
      "text/plain": [
       "count    678.000000\n",
       "mean      31.568171\n",
       "std       11.957862\n",
       "min       13.750000\n",
       "25%       22.602500\n",
       "50%       28.460000\n",
       "75%       38.230000\n",
       "max       80.250000\n",
       "Name: Age, dtype: float64"
      ]
     },
     "execution_count": 18,
     "metadata": {},
     "output_type": "execute_result"
    }
   ],
   "source": [
    "apps['Age'] = apps['Age'].astype(float)\n",
    "apps['Age'].describe()"
   ]
  },
  {
   "cell_type": "markdown",
   "metadata": {},
   "source": [
    "Curiously, the minimum age in the dataset is rather young at 13.75 years, assuming, of course, that our assumed label is age in years. Further investigation should be done in the EDA section. "
   ]
  },
  {
   "cell_type": "markdown",
   "metadata": {},
   "source": [
    "##### Interpolation: _Age_\n",
    "Since there is a wide dispersion between the mean which is sensitive to large values and median, I will use the median value to interpolate for the missing values in age. "
   ]
  },
  {
   "cell_type": "code",
   "execution_count": 19,
   "metadata": {},
   "outputs": [
    {
     "name": "stdout",
     "output_type": "stream",
     "text": [
      "28.46    12\n",
      "22.67     9\n",
      "20.42     7\n",
      "18.83     6\n",
      "24.50     6\n",
      "         ..\n",
      "48.25     1\n",
      "28.33     1\n",
      "18.75     1\n",
      "18.50     1\n",
      "36.42     1\n",
      "Name: Age, Length: 350, dtype: int64\n",
      "Total Null values:  0\n"
     ]
    }
   ],
   "source": [
    "apps['Age'] = apps['Age'].fillna(apps['Age'].median())\n",
    "print(apps['Age'].value_counts())\n",
    "print(\"Total Null values: \", apps['Age'].isnull().sum())\n"
   ]
  },
  {
   "cell_type": "markdown",
   "metadata": {},
   "source": [
    "#### Columns: _Debt_\n",
    "This should also be a continuous numeric variable. Let's check it. There are no missing values in this column so interpolation is not needed. "
   ]
  },
  {
   "cell_type": "code",
   "execution_count": 20,
   "metadata": {},
   "outputs": [
    {
     "data": {
      "text/plain": [
       "count    690.000000\n",
       "mean       4.758725\n",
       "std        4.978163\n",
       "min        0.000000\n",
       "25%        1.000000\n",
       "50%        2.750000\n",
       "75%        7.207500\n",
       "max       28.000000\n",
       "Name: Debt, dtype: float64"
      ]
     },
     "execution_count": 20,
     "metadata": {},
     "output_type": "execute_result"
    }
   ],
   "source": [
    "apps['Debt'].describe()"
   ]
  },
  {
   "cell_type": "markdown",
   "metadata": {},
   "source": [
    "This tells us that we have no empty values and it is a continuous variable. What we do not know, however, are the units of these values. Does the _median_ value of `2.75` mean 27,500 dollars, 2.75 dollars, 2.75 million? We just don't know so we will ignore explanatory information for now. <br><br>\n",
    "This column appears ok as it is right now in terms of reasonableness. "
   ]
  },
  {
   "cell_type": "markdown",
   "metadata": {},
   "source": [
    "#### Column: _Married_\n",
    "This column can take on the following values `u`, `y`, `l`, `t` of which we do not have further definition. I will check them for reasonableness by looking at the unique values in the series.  "
   ]
  },
  {
   "cell_type": "code",
   "execution_count": 21,
   "metadata": {},
   "outputs": [
    {
     "data": {
      "text/plain": [
       "array(['u', 'y', nan, 'l'], dtype=object)"
      ]
     },
     "execution_count": 21,
     "metadata": {},
     "output_type": "execute_result"
    }
   ],
   "source": [
    "apps['Married'].unique()"
   ]
  },
  {
   "cell_type": "markdown",
   "metadata": {},
   "source": [
    "We have some empty values in the dataset, and values reported within are within our available value set `u`, `y` and `l` are all available values in this column. "
   ]
  },
  {
   "cell_type": "code",
   "execution_count": 22,
   "metadata": {},
   "outputs": [
    {
     "name": "stdout",
     "output_type": "stream",
     "text": [
      "u    519\n",
      "y    163\n",
      "l      2\n",
      "Name: Married, dtype: int64\n",
      "Total null values =  6\n"
     ]
    }
   ],
   "source": [
    "print(apps['Married'].value_counts())\n",
    "print(\"Total null values = \", apps['Married'].isnull().sum())"
   ]
  },
  {
   "cell_type": "markdown",
   "metadata": {},
   "source": [
    "##### Interpolation: _Married_\n",
    "We have six empty values. Again where will simply just add the most frequent as the missing value. "
   ]
  },
  {
   "cell_type": "code",
   "execution_count": 23,
   "metadata": {},
   "outputs": [
    {
     "name": "stdout",
     "output_type": "stream",
     "text": [
      "u    525\n",
      "y    163\n",
      "l      2\n",
      "Name: Married, dtype: int64\n",
      "Total null values =  0\n"
     ]
    }
   ],
   "source": [
    "apps['Married'] = apps['Married'].fillna(apps['Married'].value_counts().index[0])\n",
    "print(apps['Married'].value_counts())\n",
    "print(\"Total null values = \", apps['Married'].isnull().sum())"
   ]
  },
  {
   "cell_type": "markdown",
   "metadata": {},
   "source": [
    "#### Column: _Bank Customer_\n",
    "This is a categorical column that can take on the values of `g`, `p`, and `gg`. As before, we do not know the definitions of these values as they have been previously anonymized. "
   ]
  },
  {
   "cell_type": "code",
   "execution_count": 24,
   "metadata": {},
   "outputs": [
    {
     "name": "stdout",
     "output_type": "stream",
     "text": [
      "['g' 'p' nan 'gg']\n",
      "g     519\n",
      "p     163\n",
      "gg      2\n",
      "Name: BankCustomer, dtype: int64\n",
      "Total null values =  6\n"
     ]
    }
   ],
   "source": [
    "print(apps['BankCustomer'].unique())\n",
    "print(apps['BankCustomer'].value_counts())\n",
    "print(\"Total null values = \", apps['BankCustomer'].isnull().sum())"
   ]
  },
  {
   "cell_type": "markdown",
   "metadata": {},
   "source": [
    "##### Interpolation: _Married_\n",
    "The 6 missing values will be imputed with the most frequent value, `g`."
   ]
  },
  {
   "cell_type": "code",
   "execution_count": 25,
   "metadata": {},
   "outputs": [
    {
     "name": "stdout",
     "output_type": "stream",
     "text": [
      "g     525\n",
      "p     163\n",
      "gg      2\n",
      "Name: BankCustomer, dtype: int64\n",
      "Total null values =  0\n"
     ]
    }
   ],
   "source": [
    "apps['BankCustomer'] = apps['BankCustomer'].fillna(apps['BankCustomer'].value_counts().index[0])\n",
    "print(apps['BankCustomer'].value_counts())\n",
    "print(\"Total null values = \", apps['BankCustomer'].isnull().sum())"
   ]
  },
  {
   "cell_type": "markdown",
   "metadata": {},
   "source": [
    "#### Column: _Education Level_\n",
    "Values in this categorical variable's column can take the values `c`, `d`, `cc`, `i`, `j`, `k`, `m`, `r`, `q`, `w`, `x`, `e`, `aa`, and `ff`. We do not know the definitions of these values either. We are simply going to check for reasonableness against what we know already. "
   ]
  },
  {
   "cell_type": "code",
   "execution_count": 26,
   "metadata": {},
   "outputs": [
    {
     "name": "stdout",
     "output_type": "stream",
     "text": [
      "['w' 'q' 'm' 'r' 'cc' 'k' 'c' 'd' 'x' 'i' 'e' 'aa' 'ff' 'j' nan]\n",
      "c     137\n",
      "q      78\n",
      "w      64\n",
      "i      59\n",
      "aa     54\n",
      "ff     53\n",
      "k      51\n",
      "cc     41\n",
      "m      38\n",
      "x      38\n",
      "d      30\n",
      "e      25\n",
      "j      10\n",
      "r       3\n",
      "Name: EducationLevel, dtype: int64\n",
      "Total null values =  9\n"
     ]
    }
   ],
   "source": [
    "print(apps['EducationLevel'].unique())\n",
    "print(apps['EducationLevel'].value_counts())\n",
    "print(\"Total null values = \", apps['EducationLevel'].isnull().sum())"
   ]
  },
  {
   "cell_type": "markdown",
   "metadata": {},
   "source": [
    "Eyeballing these values may be a bit difficult to do. An easy way is to measure the `len()` of resulting array and see if that matches what we expect."
   ]
  },
  {
   "cell_type": "code",
   "execution_count": 27,
   "metadata": {},
   "outputs": [
    {
     "data": {
      "text/plain": [
       "15"
      ]
     },
     "execution_count": 27,
     "metadata": {},
     "output_type": "execute_result"
    }
   ],
   "source": [
    "len(apps['EducationLevel'].unique())"
   ]
  },
  {
   "cell_type": "markdown",
   "metadata": {},
   "source": [
    "I expected 14 categories, which the data had + a `NaN` type. "
   ]
  },
  {
   "cell_type": "markdown",
   "metadata": {},
   "source": [
    "##### Interpolation: _Education Level_\n",
    "There are 9 missing values which will be taken on the most frequent again. "
   ]
  },
  {
   "cell_type": "code",
   "execution_count": 28,
   "metadata": {},
   "outputs": [
    {
     "name": "stdout",
     "output_type": "stream",
     "text": [
      "c     146\n",
      "q      78\n",
      "w      64\n",
      "i      59\n",
      "aa     54\n",
      "ff     53\n",
      "k      51\n",
      "cc     41\n",
      "m      38\n",
      "x      38\n",
      "d      30\n",
      "e      25\n",
      "j      10\n",
      "r       3\n",
      "Name: EducationLevel, dtype: int64\n",
      "Total null values =  0\n"
     ]
    }
   ],
   "source": [
    "apps['EducationLevel'] = apps['EducationLevel'].fillna(apps['EducationLevel'].value_counts().index[0])\n",
    "print(apps['EducationLevel'].value_counts())\n",
    "print(\"Total null values = \", apps['EducationLevel'].isnull().sum())"
   ]
  },
  {
   "cell_type": "markdown",
   "metadata": {},
   "source": [
    "#### Column: _Ethnicity_\n",
    "This column can take the values `v`, `h`, `bb`, `j`, `n`, `z`, `dd`, `ff`, `o` of which we have no operating definitions. Again we are only checking for reasonableness and to clean the data if needed. "
   ]
  },
  {
   "cell_type": "code",
   "execution_count": 29,
   "metadata": {},
   "outputs": [
    {
     "name": "stdout",
     "output_type": "stream",
     "text": [
      "['v' 'h' 'bb' 'ff' 'j' 'z' nan 'o' 'dd' 'n']\n",
      "v     399\n",
      "h     138\n",
      "bb     59\n",
      "ff     57\n",
      "j       8\n",
      "z       8\n",
      "dd      6\n",
      "n       4\n",
      "o       2\n",
      "Name: Ethnicity, dtype: int64\n",
      "10\n",
      "Total null values =  9\n"
     ]
    }
   ],
   "source": [
    "print(apps['Ethnicity'].unique())\n",
    "print(apps['Ethnicity'].value_counts())\n",
    "print(len(apps['Ethnicity'].unique()))\n",
    "print(\"Total null values = \", apps['Ethnicity'].isnull().sum())"
   ]
  },
  {
   "cell_type": "markdown",
   "metadata": {},
   "source": [
    "We expected 9 and were returned 10 on account of the `NaN` value. "
   ]
  },
  {
   "cell_type": "markdown",
   "metadata": {},
   "source": [
    "##### Interpolation: _Ethnicity_\n",
    "We will interpolate the missing values with the most frequent in this feature."
   ]
  },
  {
   "cell_type": "code",
   "execution_count": 30,
   "metadata": {},
   "outputs": [
    {
     "name": "stdout",
     "output_type": "stream",
     "text": [
      "v     408\n",
      "h     138\n",
      "bb     59\n",
      "ff     57\n",
      "j       8\n",
      "z       8\n",
      "dd      6\n",
      "n       4\n",
      "o       2\n",
      "Name: Ethnicity, dtype: int64\n",
      "Total null values =  0\n"
     ]
    }
   ],
   "source": [
    "apps['Ethnicity'] = apps['Ethnicity'].fillna(apps['Ethnicity'].value_counts().index[0])\n",
    "print(apps['Ethnicity'].value_counts())\n",
    "print(\"Total null values = \", apps['Ethnicity'].isnull().sum())"
   ]
  },
  {
   "cell_type": "markdown",
   "metadata": {},
   "source": [
    "#### Column: _Years Employed_\n",
    "We can guess at this given our column label (also a guess). Should be a continuous numeric variable. We can see that there are no empty `NaN` values and we have a complete series. Assuming the label is correct, what is interesting is where our 75th percentile is; `2.625` years. Borrowers in this dataset were mostly newer employees at their given firms. We do not know the nature of these employers or if all of our datapoints were from some group that would only average less than 5 years at a company before applying for credit. "
   ]
  },
  {
   "cell_type": "code",
   "execution_count": 31,
   "metadata": {},
   "outputs": [
    {
     "data": {
      "text/plain": [
       "count    690.000000\n",
       "mean       2.223406\n",
       "std        3.346513\n",
       "min        0.000000\n",
       "25%        0.165000\n",
       "50%        1.000000\n",
       "75%        2.625000\n",
       "max       28.500000\n",
       "Name: YearsEmployed, dtype: float64"
      ]
     },
     "execution_count": 31,
     "metadata": {},
     "output_type": "execute_result"
    }
   ],
   "source": [
    "apps['YearsEmployed'].describe()"
   ]
  },
  {
   "cell_type": "markdown",
   "metadata": {},
   "source": [
    "There are no missing values in this feature. "
   ]
  },
  {
   "cell_type": "markdown",
   "metadata": {},
   "source": [
    "#### Column: _Prior Default_\n",
    "This coulumn shoud be `t` for _True_ (or 1) or `f` for _False_ (or 0)"
   ]
  },
  {
   "cell_type": "code",
   "execution_count": 32,
   "metadata": {},
   "outputs": [
    {
     "name": "stdout",
     "output_type": "stream",
     "text": [
      "count     690\n",
      "unique      2\n",
      "top         t\n",
      "freq      361\n",
      "Name: PriorDefault, dtype: object\n",
      "t    361\n",
      "f    329\n",
      "Name: PriorDefault, dtype: int64\n",
      "Total null values =  0\n"
     ]
    }
   ],
   "source": [
    "print(apps['PriorDefault'].describe())\n",
    "print(apps['PriorDefault'].value_counts())\n",
    "print(\"Total null values = \", apps['PriorDefault'].isnull().sum())"
   ]
  },
  {
   "cell_type": "code",
   "execution_count": 33,
   "metadata": {},
   "outputs": [
    {
     "data": {
      "text/plain": [
       "t    0.523188\n",
       "f    0.476812\n",
       "Name: PriorDefault, dtype: float64"
      ]
     },
     "execution_count": 33,
     "metadata": {},
     "output_type": "execute_result"
    }
   ],
   "source": [
    "apps['PriorDefault'].value_counts(normalize = True)"
   ]
  },
  {
   "cell_type": "markdown",
   "metadata": {},
   "source": [
    "This would seem to have a heavy influence on credit card approvals. Again, our guess is that this column is representing prior defaults. No data cleaning was done in this step. \n",
    "<br><br>\n",
    "There is an added benefit here of seeing that our data, in this category, is nearly balanced and that there are no missing values to interpolate."
   ]
  },
  {
   "cell_type": "markdown",
   "metadata": {},
   "source": [
    "#### Column: _Employed_\n",
    "This column label describes if our borrower is employed at the time of application and can take only one of two values, `t` or `f`. "
   ]
  },
  {
   "cell_type": "code",
   "execution_count": 34,
   "metadata": {},
   "outputs": [
    {
     "data": {
      "text/plain": [
       "count     690\n",
       "unique      2\n",
       "top         f\n",
       "freq      395\n",
       "Name: Employed, dtype: object"
      ]
     },
     "execution_count": 34,
     "metadata": {},
     "output_type": "execute_result"
    }
   ],
   "source": [
    "apps['Employed'].describe()"
   ]
  },
  {
   "cell_type": "code",
   "execution_count": 35,
   "metadata": {},
   "outputs": [
    {
     "name": "stdout",
     "output_type": "stream",
     "text": [
      "['t' 'f']\n",
      "f    395\n",
      "t    295\n",
      "Name: Employed, dtype: int64\n",
      "f    0.572464\n",
      "t    0.427536\n",
      "Name: Employed, dtype: float64\n"
     ]
    }
   ],
   "source": [
    "print(apps['Employed'].unique())\n",
    "print(apps['Employed'].value_counts())\n",
    "print(apps['Employed'].value_counts(normalize= True))"
   ]
  },
  {
   "cell_type": "markdown",
   "metadata": {},
   "source": [
    "#### Column: _Credit Score_\n",
    "This column should be a continuous numeric column. Let's look at `.describe()` to see if the values make sense. "
   ]
  },
  {
   "cell_type": "code",
   "execution_count": 36,
   "metadata": {},
   "outputs": [
    {
     "data": {
      "text/plain": [
       "count    690.00000\n",
       "mean       2.40000\n",
       "std        4.86294\n",
       "min        0.00000\n",
       "25%        0.00000\n",
       "50%        0.00000\n",
       "75%        3.00000\n",
       "max       67.00000\n",
       "Name: CreditScore, dtype: float64"
      ]
     },
     "execution_count": 36,
     "metadata": {},
     "output_type": "execute_result"
    }
   ],
   "source": [
    "apps['CreditScore'].describe()"
   ]
  },
  {
   "cell_type": "markdown",
   "metadata": {},
   "source": [
    "Well, without knowing the unit of measurement, we can't really say if this makes sense or not right off the bat. What we can remark on is the extreme maximum value of `67.00`. Not to worry, however, we will confirm outliers in the next section and then remove them at that time. "
   ]
  },
  {
   "cell_type": "markdown",
   "metadata": {},
   "source": [
    "#### Column: _Drivers License_\n",
    "This column should only take one of two truth values, `t` or `f`. Having a license may indicate responsibility. But, who knows, we are only guessing at the labels and are not sure of the veracity of _\"Having a licence is an indicator of financial responsibility.\"_ Let's continue and look for reasonableness here. "
   ]
  },
  {
   "cell_type": "code",
   "execution_count": 37,
   "metadata": {},
   "outputs": [
    {
     "name": "stdout",
     "output_type": "stream",
     "text": [
      "f    374\n",
      "t    316\n",
      "Name: DriversLicense, dtype: int64\n",
      "Total null values =  0\n"
     ]
    }
   ],
   "source": [
    "print(apps['DriversLicense'].value_counts())\n",
    "print(\"Total null values = \", apps['DriversLicense'].isnull().sum())\n"
   ]
  },
  {
   "cell_type": "markdown",
   "metadata": {},
   "source": [
    "The existing data fits our working description. No cleaning or transformations done in this step. "
   ]
  },
  {
   "cell_type": "markdown",
   "metadata": {},
   "source": [
    "#### Column: _Citizen_\n",
    "This column should take one of three values, if available, `g`, `p`, and `s`. Like our other columns, we do not have working definitions of these values or any intuition on what they mean. If any are offered, they are pure speculation. "
   ]
  },
  {
   "cell_type": "code",
   "execution_count": 38,
   "metadata": {},
   "outputs": [
    {
     "name": "stdout",
     "output_type": "stream",
     "text": [
      "['g' 's' 'p']\n",
      "Total null values =  0\n"
     ]
    }
   ],
   "source": [
    "print(apps['Citizen'].unique())\n",
    "print(\"Total null values = \", apps['Citizen'].isnull().sum())"
   ]
  },
  {
   "cell_type": "markdown",
   "metadata": {},
   "source": [
    "And we can check a short description of such."
   ]
  },
  {
   "cell_type": "code",
   "execution_count": 39,
   "metadata": {},
   "outputs": [
    {
     "data": {
      "text/plain": [
       "count     690\n",
       "unique      3\n",
       "top         g\n",
       "freq      625\n",
       "Name: Citizen, dtype: object"
      ]
     },
     "execution_count": 39,
     "metadata": {},
     "output_type": "execute_result"
    }
   ],
   "source": [
    "apps['Citizen'].describe()"
   ]
  },
  {
   "cell_type": "markdown",
   "metadata": {},
   "source": [
    "#### Column: _Zip Code_\n",
    "Now we come to Zip Code. The code book and data dictionary states that this is a numeric variable which is continuous. However, our best guess at a label indicates that this should be zip code as it is 5 digits in length. If we assume that this is a zip code, then we should **not** treat these values as numeric variables. "
   ]
  },
  {
   "cell_type": "code",
   "execution_count": 40,
   "metadata": {},
   "outputs": [
    {
     "name": "stdout",
     "output_type": "stream",
     "text": [
      "count       677\n",
      "unique      170\n",
      "top       00000\n",
      "freq        132\n",
      "Name: ZipCode, dtype: object\n",
      "Total null values =  13\n"
     ]
    }
   ],
   "source": [
    "print(apps['ZipCode'].describe())\n",
    "print(\"Total null values = \", apps['ZipCode'].isnull().sum())"
   ]
  },
  {
   "cell_type": "code",
   "execution_count": 41,
   "metadata": {},
   "outputs": [
    {
     "data": {
      "text/html": [
       "<div>\n",
       "<style scoped>\n",
       "    .dataframe tbody tr th:only-of-type {\n",
       "        vertical-align: middle;\n",
       "    }\n",
       "\n",
       "    .dataframe tbody tr th {\n",
       "        vertical-align: top;\n",
       "    }\n",
       "\n",
       "    .dataframe thead th {\n",
       "        text-align: right;\n",
       "    }\n",
       "</style>\n",
       "<table border=\"1\" class=\"dataframe\">\n",
       "  <thead>\n",
       "    <tr style=\"text-align: right;\">\n",
       "      <th></th>\n",
       "      <th>Age</th>\n",
       "      <th>Debt</th>\n",
       "      <th>YearsEmployed</th>\n",
       "      <th>CreditScore</th>\n",
       "      <th>Income</th>\n",
       "    </tr>\n",
       "  </thead>\n",
       "  <tbody>\n",
       "    <tr>\n",
       "      <th>count</th>\n",
       "      <td>132.000000</td>\n",
       "      <td>132.000000</td>\n",
       "      <td>132.000000</td>\n",
       "      <td>132.000000</td>\n",
       "      <td>132.000000</td>\n",
       "    </tr>\n",
       "    <tr>\n",
       "      <th>mean</th>\n",
       "      <td>38.351364</td>\n",
       "      <td>7.396742</td>\n",
       "      <td>3.705076</td>\n",
       "      <td>4.250000</td>\n",
       "      <td>1161.962121</td>\n",
       "    </tr>\n",
       "    <tr>\n",
       "      <th>std</th>\n",
       "      <td>15.431067</td>\n",
       "      <td>6.218740</td>\n",
       "      <td>4.928837</td>\n",
       "      <td>6.179719</td>\n",
       "      <td>2515.489060</td>\n",
       "    </tr>\n",
       "    <tr>\n",
       "      <th>min</th>\n",
       "      <td>15.830000</td>\n",
       "      <td>0.000000</td>\n",
       "      <td>0.000000</td>\n",
       "      <td>0.000000</td>\n",
       "      <td>0.000000</td>\n",
       "    </tr>\n",
       "    <tr>\n",
       "      <th>25%</th>\n",
       "      <td>24.582500</td>\n",
       "      <td>1.916250</td>\n",
       "      <td>0.165000</td>\n",
       "      <td>0.000000</td>\n",
       "      <td>0.000000</td>\n",
       "    </tr>\n",
       "    <tr>\n",
       "      <th>50%</th>\n",
       "      <td>35.875000</td>\n",
       "      <td>6.270000</td>\n",
       "      <td>1.542500</td>\n",
       "      <td>1.000000</td>\n",
       "      <td>47.000000</td>\n",
       "    </tr>\n",
       "    <tr>\n",
       "      <th>75%</th>\n",
       "      <td>49.582500</td>\n",
       "      <td>11.062500</td>\n",
       "      <td>5.406250</td>\n",
       "      <td>7.250000</td>\n",
       "      <td>1000.000000</td>\n",
       "    </tr>\n",
       "    <tr>\n",
       "      <th>max</th>\n",
       "      <td>80.250000</td>\n",
       "      <td>28.000000</td>\n",
       "      <td>28.500000</td>\n",
       "      <td>40.000000</td>\n",
       "      <td>15000.000000</td>\n",
       "    </tr>\n",
       "  </tbody>\n",
       "</table>\n",
       "</div>"
      ],
      "text/plain": [
       "              Age        Debt  YearsEmployed  CreditScore        Income\n",
       "count  132.000000  132.000000     132.000000   132.000000    132.000000\n",
       "mean    38.351364    7.396742       3.705076     4.250000   1161.962121\n",
       "std     15.431067    6.218740       4.928837     6.179719   2515.489060\n",
       "min     15.830000    0.000000       0.000000     0.000000      0.000000\n",
       "25%     24.582500    1.916250       0.165000     0.000000      0.000000\n",
       "50%     35.875000    6.270000       1.542500     1.000000     47.000000\n",
       "75%     49.582500   11.062500       5.406250     7.250000   1000.000000\n",
       "max     80.250000   28.000000      28.500000    40.000000  15000.000000"
      ]
     },
     "execution_count": 41,
     "metadata": {},
     "output_type": "execute_result"
    }
   ],
   "source": [
    "apps[apps['ZipCode'] == '00000'].describe()"
   ]
  },
  {
   "cell_type": "markdown",
   "metadata": {},
   "source": [
    "This data field presents more of a challenge for us for analysis. <br> <br> Here is what we know:\n",
    "* There are 677 non null data points. \n",
    "* There are 13 `NaN` values. \n",
    "* There are 170 unique entries\n",
    "* The most frequent data value is `'00000'`\n",
    "* If we consider `'00000'` as a missing value, and then discard those observations, we would lose 132 rows of data.\n",
    "\n",
    "A possible solution would be to drop the column entirely. Something we will investigate during [EDA](#eda)"
   ]
  },
  {
   "cell_type": "markdown",
   "metadata": {},
   "source": [
    "##### Interpolation: _Zip Code_\n",
    "This column is a bit tricky because we will be treating this feature as a categorical text feature. \n",
    "<br><br> As such, this feature's most common value is `\"00000\"`. The `NaN` values will be converted to `\"00000\"`\n",
    "<br><br> We have a some options on how to deal with our error of `\"00000\"`:\n",
    "1. Keep it: We can leave it as the most frequent value, though not really meaningful in anyway. \n",
    "2. Drop it: We can drop the feature from analysis all together. \n",
    "3. Do something else: I can interpolate all of them with the second most value.\n",
    "4. Alternate option: I can look at the proportions of the data and add the missing rows in relative proportion.\n"
   ]
  },
  {
   "cell_type": "code",
   "execution_count": 42,
   "metadata": {},
   "outputs": [
    {
     "name": "stdout",
     "output_type": "stream",
     "text": [
      "Total null values =  0\n"
     ]
    }
   ],
   "source": [
    "apps['ZipCode'] = apps['ZipCode'].fillna(apps['ZipCode'].value_counts().index[0])\n",
    "print(\"Total null values = \", apps['ZipCode'].isnull().sum())"
   ]
  },
  {
   "cell_type": "markdown",
   "metadata": {},
   "source": [
    "Now let's take a look at how our values are distributed and what the relative proportions are. "
   ]
  },
  {
   "cell_type": "code",
   "execution_count": 43,
   "metadata": {},
   "outputs": [
    {
     "name": "stdout",
     "output_type": "stream",
     "text": [
      "00000    145\n",
      "00120     35\n",
      "00200     35\n",
      "00160     34\n",
      "00100     30\n",
      "00080     30\n",
      "00280     22\n",
      "00180     18\n",
      "00140     16\n",
      "00240     14\n",
      "Name: ZipCode, dtype: int64\n"
     ]
    }
   ],
   "source": [
    "print(apps['ZipCode'].value_counts()[:10])"
   ]
  },
  {
   "cell_type": "code",
   "execution_count": 44,
   "metadata": {},
   "outputs": [
    {
     "data": {
      "text/plain": [
       "00000    0.210\n",
       "00120    0.051\n",
       "00200    0.051\n",
       "00160    0.049\n",
       "00100    0.043\n",
       "00080    0.043\n",
       "00280    0.032\n",
       "00180    0.026\n",
       "00140    0.023\n",
       "00240    0.020\n",
       "Name: ZipCode, dtype: float64"
      ]
     },
     "execution_count": 44,
     "metadata": {},
     "output_type": "execute_result"
    }
   ],
   "source": [
    "np.round(apps['ZipCode'].value_counts(normalize = True),3)[:10]"
   ]
  },
  {
   "cell_type": "markdown",
   "metadata": {},
   "source": [
    "`\"00000\"` represents more than 20% of our data. That is a really big number and could influence the machine learning algorithm.  Perhaps we should look at a `crosstab` of this to get an idea of how influential it is.  "
   ]
  },
  {
   "cell_type": "code",
   "execution_count": 45,
   "metadata": {},
   "outputs": [
    {
     "data": {
      "text/html": [
       "<div>\n",
       "<style scoped>\n",
       "    .dataframe tbody tr th:only-of-type {\n",
       "        vertical-align: middle;\n",
       "    }\n",
       "\n",
       "    .dataframe tbody tr th {\n",
       "        vertical-align: top;\n",
       "    }\n",
       "\n",
       "    .dataframe thead th {\n",
       "        text-align: right;\n",
       "    }\n",
       "</style>\n",
       "<table border=\"1\" class=\"dataframe\">\n",
       "  <thead>\n",
       "    <tr style=\"text-align: right;\">\n",
       "      <th></th>\n",
       "      <th>col_0</th>\n",
       "      <th>ApprovalStatus</th>\n",
       "    </tr>\n",
       "    <tr>\n",
       "      <th>ZipCode</th>\n",
       "      <th>ApprovalStatus</th>\n",
       "      <th></th>\n",
       "    </tr>\n",
       "  </thead>\n",
       "  <tbody>\n",
       "    <tr>\n",
       "      <th rowspan=\"2\" valign=\"top\">00000</th>\n",
       "      <th>+</th>\n",
       "      <td>0.126087</td>\n",
       "    </tr>\n",
       "    <tr>\n",
       "      <th>-</th>\n",
       "      <td>0.084058</td>\n",
       "    </tr>\n",
       "    <tr>\n",
       "      <th>00017</th>\n",
       "      <th>-</th>\n",
       "      <td>0.001449</td>\n",
       "    </tr>\n",
       "    <tr>\n",
       "      <th rowspan=\"2\" valign=\"top\">00020</th>\n",
       "      <th>+</th>\n",
       "      <td>0.001449</td>\n",
       "    </tr>\n",
       "    <tr>\n",
       "      <th>-</th>\n",
       "      <td>0.001449</td>\n",
       "    </tr>\n",
       "    <tr>\n",
       "      <th>...</th>\n",
       "      <th>...</th>\n",
       "      <td>...</td>\n",
       "    </tr>\n",
       "    <tr>\n",
       "      <th>00840</th>\n",
       "      <th>+</th>\n",
       "      <td>0.001449</td>\n",
       "    </tr>\n",
       "    <tr>\n",
       "      <th>00928</th>\n",
       "      <th>-</th>\n",
       "      <td>0.001449</td>\n",
       "    </tr>\n",
       "    <tr>\n",
       "      <th>00980</th>\n",
       "      <th>-</th>\n",
       "      <td>0.001449</td>\n",
       "    </tr>\n",
       "    <tr>\n",
       "      <th>01160</th>\n",
       "      <th>-</th>\n",
       "      <td>0.001449</td>\n",
       "    </tr>\n",
       "    <tr>\n",
       "      <th>02000</th>\n",
       "      <th>-</th>\n",
       "      <td>0.001449</td>\n",
       "    </tr>\n",
       "  </tbody>\n",
       "</table>\n",
       "<p>216 rows × 1 columns</p>\n",
       "</div>"
      ],
      "text/plain": [
       "col_0                   ApprovalStatus\n",
       "ZipCode ApprovalStatus                \n",
       "00000   +                     0.126087\n",
       "        -                     0.084058\n",
       "00017   -                     0.001449\n",
       "00020   +                     0.001449\n",
       "        -                     0.001449\n",
       "...                                ...\n",
       "00840   +                     0.001449\n",
       "00928   -                     0.001449\n",
       "00980   -                     0.001449\n",
       "01160   -                     0.001449\n",
       "02000   -                     0.001449\n",
       "\n",
       "[216 rows x 1 columns]"
      ]
     },
     "execution_count": 45,
     "metadata": {},
     "output_type": "execute_result"
    }
   ],
   "source": [
    "#try to show the number of approved vs not-approved by area code. first in a table then by some graphic. \n",
    "pd.crosstab([apps['ZipCode'], apps['ApprovalStatus']], 'ApprovalStatus', margins = False, normalize =  True)"
   ]
  },
  {
   "cell_type": "code",
   "execution_count": 46,
   "metadata": {},
   "outputs": [
    {
     "data": {
      "text/plain": [
       "<AxesSubplot:xlabel='ZipCode,ApprovalStatus'>"
      ]
     },
     "execution_count": 46,
     "metadata": {},
     "output_type": "execute_result"
    },
    {
     "data": {
      "image/png": "[encoded data removed]",
      "text/plain": [
       "<Figure size 640x480 with 1 Axes>"
      ]
     },
     "metadata": {},
     "output_type": "display_data"
    }
   ],
   "source": [
    "zip = apps.groupby(['ZipCode', 'ApprovalStatus'])\n",
    "zip.size().sort_values(axis = 0, ascending = False)[2:50].plot(kind = 'bar')"
   ]
  },
  {
   "cell_type": "markdown",
   "metadata": {},
   "source": [
    "The above chart shows the frequency of `Approval` and `Non Approval` across the dataset excluding the top `\"00000\"` zip code. \n",
    "We can see that there are many zip codes with varying distributions of approval and non approval. \n",
    "Seemingly compounding this is the fact that `\"00000\"` is more than 20% of our data. So simply ignoring them is not in our best interest. The solution, I think, is to redistribute the missing values in a way that will maintain the same proportion that already exists in the dataset with existing zipcode representation. That way we avoid giving undue bias to an otherwise unknown zipcode. "
   ]
  },
  {
   "cell_type": "markdown",
   "metadata": {},
   "source": [
    "##### Interpolation by proportion. \n",
    "The goal of this procedure is so that the dataset maintains the same proportion of zipcodes when we remove the `NaN` values. <br><br>\n",
    "The steps to accomplish this are:\n",
    "1. Change all `\"00000\"` back to `NaN` values.\n",
    "1. Bisect the data set by _ApprovalStatus_, `'+'` and `'-'`\n",
    "1. Measure the proportion of existing ZipCodes in each new data frame. \n",
    "1. Redistribute the observations by using the `df.fillna()` & `np.random.choice()` methods. \n",
    "1. Confirm new dataframes have maintained their proportions with the added data.\n",
    "1. Concatenate dataframes with `pd.concat()` method and continue analysis. "
   ]
  },
  {
   "cell_type": "code",
   "execution_count": 47,
   "metadata": {},
   "outputs": [
    {
     "name": "stdout",
     "output_type": "stream",
     "text": [
      "Total null values =  145\n"
     ]
    }
   ],
   "source": [
    "#change all '0000' back to np.nan\n",
    "apps['ZipCode'] = apps['ZipCode'].replace('00000', np.nan)\n",
    "print(\"Total null values = \", apps['ZipCode'].isnull().sum())"
   ]
  },
  {
   "cell_type": "code",
   "execution_count": 48,
   "metadata": {},
   "outputs": [
    {
     "data": {
      "text/plain": [
       "ZipCode  ApprovalStatus\n",
       "NaN      +                 0.126087\n",
       "         -                 0.084058\n",
       "00200    -                 0.039130\n",
       "00160    -                 0.037681\n",
       "00120    -                 0.033333\n",
       "                             ...   \n",
       "00188    -                 0.001449\n",
       "00195    +                 0.001449\n",
       "00202    +                 0.001449\n",
       "00204    +                 0.001449\n",
       "00231    -                 0.001449\n",
       "Length: 216, dtype: float64"
      ]
     },
     "execution_count": 48,
     "metadata": {},
     "output_type": "execute_result"
    }
   ],
   "source": [
    "#now look at the split of approved to non approved in the existing dataset\n",
    "apps.value_counts(subset = ['ZipCode','ApprovalStatus' ], dropna=False, normalize = True)"
   ]
  },
  {
   "cell_type": "code",
   "execution_count": 49,
   "metadata": {},
   "outputs": [
    {
     "data": {
      "text/plain": [
       "ZipCode  ApprovalStatus\n",
       "00200    -                 0.049541\n",
       "00160    -                 0.047706\n",
       "00120    -                 0.042202\n",
       "00280    -                 0.031193\n",
       "00100    -                 0.029358\n",
       "                             ...   \n",
       "00188    -                 0.001835\n",
       "00195    +                 0.001835\n",
       "00202    +                 0.001835\n",
       "00204    +                 0.001835\n",
       "02000    -                 0.001835\n",
       "Length: 214, dtype: float64"
      ]
     },
     "execution_count": 49,
     "metadata": {},
     "output_type": "execute_result"
    }
   ],
   "source": [
    "apps.value_counts(subset = ['ZipCode','ApprovalStatus' ], dropna=True, normalize = True)"
   ]
  },
  {
   "cell_type": "code",
   "execution_count": 50,
   "metadata": {},
   "outputs": [],
   "source": [
    "#bisect into + and - approval frames. \n",
    "approved = apps[apps['ApprovalStatus']=='+'].copy()\n",
    "declined = apps[apps['ApprovalStatus'] == '-'].copy()"
   ]
  },
  {
   "cell_type": "code",
   "execution_count": 51,
   "metadata": {},
   "outputs": [
    {
     "name": "stdout",
     "output_type": "stream",
     "text": [
      "ZipCode  ApprovalStatus\n",
      "00080    +                 0.072727\n",
      "00100    +                 0.063636\n",
      "00120    +                 0.054545\n",
      "00160    +                 0.036364\n",
      "00200    +                 0.036364\n",
      "                             ...   \n",
      "00168    +                 0.004545\n",
      "00156    +                 0.004545\n",
      "00154    +                 0.004545\n",
      "00145    +                 0.004545\n",
      "00840    +                 0.004545\n",
      "Length: 108, dtype: float64\n",
      "Gender             0\n",
      "Age                0\n",
      "Debt               0\n",
      "Married            0\n",
      "BankCustomer       0\n",
      "EducationLevel     0\n",
      "Ethnicity          0\n",
      "YearsEmployed      0\n",
      "PriorDefault       0\n",
      "Employed           0\n",
      "CreditScore        0\n",
      "DriversLicense     0\n",
      "Citizen            0\n",
      "ZipCode           87\n",
      "Income             0\n",
      "ApprovalStatus     0\n",
      "dtype: int64\n"
     ]
    }
   ],
   "source": [
    "print(approved.value_counts(subset = ['ZipCode', 'ApprovalStatus'], dropna=True, normalize = True))\n",
    "print(approved.isna().sum())"
   ]
  },
  {
   "cell_type": "code",
   "execution_count": 52,
   "metadata": {},
   "outputs": [
    {
     "name": "stdout",
     "output_type": "stream",
     "text": [
      "ZipCode  ApprovalStatus\n",
      "00080    +                 0.081433\n",
      "00100    +                 0.061889\n",
      "00120    +                 0.048860\n",
      "00160    +                 0.039088\n",
      "00200    +                 0.039088\n",
      "                             ...   \n",
      "00108    +                 0.003257\n",
      "00102    +                 0.003257\n",
      "00216    +                 0.003257\n",
      "00383    +                 0.003257\n",
      "00840    +                 0.003257\n",
      "Length: 108, dtype: float64\n",
      "Gender            0\n",
      "Age               0\n",
      "Debt              0\n",
      "Married           0\n",
      "BankCustomer      0\n",
      "EducationLevel    0\n",
      "Ethnicity         0\n",
      "YearsEmployed     0\n",
      "PriorDefault      0\n",
      "Employed          0\n",
      "CreditScore       0\n",
      "DriversLicense    0\n",
      "Citizen           0\n",
      "ZipCode           0\n",
      "Income            0\n",
      "ApprovalStatus    0\n",
      "dtype: int64\n"
     ]
    }
   ],
   "source": [
    "app_labels = approved['ZipCode'].value_counts(normalize= True, dropna=True).index.tolist()\n",
    "app_vals = approved['ZipCode'].value_counts(normalize= True, dropna=True).tolist()\n",
    "approved['ZipCode'] = approved['ZipCode'].fillna(pd.Series(np.random.choice(app_labels,p=app_vals, size = len(approved)), index = approved.index))\n",
    "print(approved.value_counts(subset = ['ZipCode', 'ApprovalStatus'], dropna=False, normalize = True))\n",
    "print(approved.isna().sum())                                            "
   ]
  },
  {
   "cell_type": "code",
   "execution_count": 53,
   "metadata": {},
   "outputs": [
    {
     "name": "stdout",
     "output_type": "stream",
     "text": [
      "ZipCode  ApprovalStatus\n",
      "NaN      -                 0.151436\n",
      "00200    -                 0.070496\n",
      "00160    -                 0.067885\n",
      "00120    -                 0.060052\n",
      "00280    -                 0.044386\n",
      "                             ...   \n",
      "00171    -                 0.002611\n",
      "00170    -                 0.002611\n",
      "00168    -                 0.002611\n",
      "00167    -                 0.002611\n",
      "00225    -                 0.002611\n",
      "Length: 107, dtype: float64\n",
      "Gender             0\n",
      "Age                0\n",
      "Debt               0\n",
      "Married            0\n",
      "BankCustomer       0\n",
      "EducationLevel     0\n",
      "Ethnicity          0\n",
      "YearsEmployed      0\n",
      "PriorDefault       0\n",
      "Employed           0\n",
      "CreditScore        0\n",
      "DriversLicense     0\n",
      "Citizen            0\n",
      "ZipCode           58\n",
      "Income             0\n",
      "ApprovalStatus     0\n",
      "dtype: int64\n"
     ]
    }
   ],
   "source": [
    "print(declined.value_counts(subset = ['ZipCode', 'ApprovalStatus'], dropna=False, normalize = True))\n",
    "print(declined.isna().sum()) "
   ]
  },
  {
   "cell_type": "code",
   "execution_count": 54,
   "metadata": {},
   "outputs": [
    {
     "name": "stdout",
     "output_type": "stream",
     "text": [
      "ZipCode  ApprovalStatus\n",
      "00160    -                 0.086162\n",
      "00200    -                 0.080940\n",
      "00120    -                 0.060052\n",
      "00100    -                 0.052219\n",
      "00180    -                 0.049608\n",
      "                             ...   \n",
      "00254    -                 0.002611\n",
      "00263    -                 0.002611\n",
      "00268    -                 0.002611\n",
      "00288    -                 0.002611\n",
      "00225    -                 0.002611\n",
      "Length: 106, dtype: float64\n",
      "Gender            0\n",
      "Age               0\n",
      "Debt              0\n",
      "Married           0\n",
      "BankCustomer      0\n",
      "EducationLevel    0\n",
      "Ethnicity         0\n",
      "YearsEmployed     0\n",
      "PriorDefault      0\n",
      "Employed          0\n",
      "CreditScore       0\n",
      "DriversLicense    0\n",
      "Citizen           0\n",
      "ZipCode           0\n",
      "Income            0\n",
      "ApprovalStatus    0\n",
      "dtype: int64\n"
     ]
    }
   ],
   "source": [
    "dec_labels = declined['ZipCode'].value_counts(normalize= True, dropna=True).index.tolist()\n",
    "decl_vals = declined['ZipCode'].value_counts(normalize= True, dropna=True).tolist()\n",
    "#decl_vals\n",
    "declined['ZipCode'] = declined['ZipCode'].fillna(pd.Series(np.random.choice(dec_labels,p=decl_vals, size = len(declined)), index = declined.index))\n",
    "print(declined.value_counts(subset = ['ZipCode', 'ApprovalStatus'], dropna=False, normalize = True))\n",
    "print(declined.isna().sum())   "
   ]
  },
  {
   "cell_type": "code",
   "execution_count": 55,
   "metadata": {},
   "outputs": [
    {
     "data": {
      "text/plain": [
       "Gender            0\n",
       "Age               0\n",
       "Debt              0\n",
       "Married           0\n",
       "BankCustomer      0\n",
       "EducationLevel    0\n",
       "Ethnicity         0\n",
       "YearsEmployed     0\n",
       "PriorDefault      0\n",
       "Employed          0\n",
       "CreditScore       0\n",
       "DriversLicense    0\n",
       "Citizen           0\n",
       "ZipCode           0\n",
       "Income            0\n",
       "ApprovalStatus    0\n",
       "dtype: int64"
      ]
     },
     "execution_count": 55,
     "metadata": {},
     "output_type": "execute_result"
    }
   ],
   "source": [
    "#now join the two dataframes back to apps. \n",
    "apps2 = pd.concat([approved, declined])\n",
    "apps2.isna().sum()"
   ]
  },
  {
   "cell_type": "code",
   "execution_count": 56,
   "metadata": {},
   "outputs": [
    {
     "data": {
      "text/html": [
       "<div>\n",
       "<style scoped>\n",
       "    .dataframe tbody tr th:only-of-type {\n",
       "        vertical-align: middle;\n",
       "    }\n",
       "\n",
       "    .dataframe tbody tr th {\n",
       "        vertical-align: top;\n",
       "    }\n",
       "\n",
       "    .dataframe thead th {\n",
       "        text-align: right;\n",
       "    }\n",
       "</style>\n",
       "<table border=\"1\" class=\"dataframe\">\n",
       "  <thead>\n",
       "    <tr style=\"text-align: right;\">\n",
       "      <th></th>\n",
       "      <th>Gender</th>\n",
       "      <th>Age</th>\n",
       "      <th>Debt</th>\n",
       "      <th>Married</th>\n",
       "      <th>BankCustomer</th>\n",
       "      <th>EducationLevel</th>\n",
       "      <th>Ethnicity</th>\n",
       "      <th>YearsEmployed</th>\n",
       "      <th>PriorDefault</th>\n",
       "      <th>Employed</th>\n",
       "      <th>CreditScore</th>\n",
       "      <th>DriversLicense</th>\n",
       "      <th>Citizen</th>\n",
       "      <th>ZipCode</th>\n",
       "      <th>Income</th>\n",
       "      <th>ApprovalStatus</th>\n",
       "    </tr>\n",
       "  </thead>\n",
       "  <tbody>\n",
       "    <tr>\n",
       "      <th>685</th>\n",
       "      <td>b</td>\n",
       "      <td>21.08</td>\n",
       "      <td>10.085</td>\n",
       "      <td>y</td>\n",
       "      <td>p</td>\n",
       "      <td>e</td>\n",
       "      <td>h</td>\n",
       "      <td>1.25</td>\n",
       "      <td>f</td>\n",
       "      <td>f</td>\n",
       "      <td>0</td>\n",
       "      <td>f</td>\n",
       "      <td>g</td>\n",
       "      <td>00260</td>\n",
       "      <td>0</td>\n",
       "      <td>-</td>\n",
       "    </tr>\n",
       "    <tr>\n",
       "      <th>686</th>\n",
       "      <td>a</td>\n",
       "      <td>22.67</td>\n",
       "      <td>0.750</td>\n",
       "      <td>u</td>\n",
       "      <td>g</td>\n",
       "      <td>c</td>\n",
       "      <td>v</td>\n",
       "      <td>2.00</td>\n",
       "      <td>f</td>\n",
       "      <td>t</td>\n",
       "      <td>2</td>\n",
       "      <td>t</td>\n",
       "      <td>g</td>\n",
       "      <td>00200</td>\n",
       "      <td>394</td>\n",
       "      <td>-</td>\n",
       "    </tr>\n",
       "    <tr>\n",
       "      <th>687</th>\n",
       "      <td>a</td>\n",
       "      <td>25.25</td>\n",
       "      <td>13.500</td>\n",
       "      <td>y</td>\n",
       "      <td>p</td>\n",
       "      <td>ff</td>\n",
       "      <td>ff</td>\n",
       "      <td>2.00</td>\n",
       "      <td>f</td>\n",
       "      <td>t</td>\n",
       "      <td>1</td>\n",
       "      <td>t</td>\n",
       "      <td>g</td>\n",
       "      <td>00200</td>\n",
       "      <td>1</td>\n",
       "      <td>-</td>\n",
       "    </tr>\n",
       "    <tr>\n",
       "      <th>688</th>\n",
       "      <td>b</td>\n",
       "      <td>17.92</td>\n",
       "      <td>0.205</td>\n",
       "      <td>u</td>\n",
       "      <td>g</td>\n",
       "      <td>aa</td>\n",
       "      <td>v</td>\n",
       "      <td>0.04</td>\n",
       "      <td>f</td>\n",
       "      <td>f</td>\n",
       "      <td>0</td>\n",
       "      <td>f</td>\n",
       "      <td>g</td>\n",
       "      <td>00280</td>\n",
       "      <td>750</td>\n",
       "      <td>-</td>\n",
       "    </tr>\n",
       "    <tr>\n",
       "      <th>689</th>\n",
       "      <td>b</td>\n",
       "      <td>35.00</td>\n",
       "      <td>3.375</td>\n",
       "      <td>u</td>\n",
       "      <td>g</td>\n",
       "      <td>c</td>\n",
       "      <td>h</td>\n",
       "      <td>8.29</td>\n",
       "      <td>f</td>\n",
       "      <td>f</td>\n",
       "      <td>0</td>\n",
       "      <td>t</td>\n",
       "      <td>g</td>\n",
       "      <td>00360</td>\n",
       "      <td>0</td>\n",
       "      <td>-</td>\n",
       "    </tr>\n",
       "  </tbody>\n",
       "</table>\n",
       "</div>"
      ],
      "text/plain": [
       "    Gender    Age    Debt Married BankCustomer EducationLevel Ethnicity  \\\n",
       "685      b  21.08  10.085       y            p              e         h   \n",
       "686      a  22.67   0.750       u            g              c         v   \n",
       "687      a  25.25  13.500       y            p             ff        ff   \n",
       "688      b  17.92   0.205       u            g             aa         v   \n",
       "689      b  35.00   3.375       u            g              c         h   \n",
       "\n",
       "     YearsEmployed PriorDefault Employed  CreditScore DriversLicense Citizen  \\\n",
       "685           1.25            f        f            0              f       g   \n",
       "686           2.00            f        t            2              t       g   \n",
       "687           2.00            f        t            1              t       g   \n",
       "688           0.04            f        f            0              f       g   \n",
       "689           8.29            f        f            0              t       g   \n",
       "\n",
       "    ZipCode  Income ApprovalStatus  \n",
       "685   00260       0              -  \n",
       "686   00200     394              -  \n",
       "687   00200       1              -  \n",
       "688   00280     750              -  \n",
       "689   00360       0              -  "
      ]
     },
     "execution_count": 56,
     "metadata": {},
     "output_type": "execute_result"
    }
   ],
   "source": [
    "apps2.tail()"
   ]
  },
  {
   "cell_type": "markdown",
   "metadata": {},
   "source": [
    "#### Column: _Income_\n",
    "This is another seemingly relevent column that could influence an algorithm's performance. However, there is no way to form an intuition about this data since we do not know for sure where it comes from. All we are guessing is the label and looking for anything that might pop out to us.  "
   ]
  },
  {
   "cell_type": "code",
   "execution_count": 57,
   "metadata": {},
   "outputs": [
    {
     "data": {
      "text/plain": [
       "count       690.000000\n",
       "mean       1017.385507\n",
       "std        5210.102598\n",
       "min           0.000000\n",
       "25%           0.000000\n",
       "50%           5.000000\n",
       "75%         395.500000\n",
       "max      100000.000000\n",
       "Name: Income, dtype: float64"
      ]
     },
     "execution_count": 57,
     "metadata": {},
     "output_type": "execute_result"
    }
   ],
   "source": [
    "apps2['Income'].describe()"
   ]
  },
  {
   "cell_type": "markdown",
   "metadata": {},
   "source": [
    "Already we can see that without knowing units we might have to deal with outliers. A max value of `100,000` doesn't really tell us much other than it is very far from the 75th percentile. "
   ]
  },
  {
   "cell_type": "code",
   "execution_count": 58,
   "metadata": {},
   "outputs": [
    {
     "data": {
      "text/html": [
       "<div>\n",
       "<style scoped>\n",
       "    .dataframe tbody tr th:only-of-type {\n",
       "        vertical-align: middle;\n",
       "    }\n",
       "\n",
       "    .dataframe tbody tr th {\n",
       "        vertical-align: top;\n",
       "    }\n",
       "\n",
       "    .dataframe thead th {\n",
       "        text-align: right;\n",
       "    }\n",
       "</style>\n",
       "<table border=\"1\" class=\"dataframe\">\n",
       "  <thead>\n",
       "    <tr style=\"text-align: right;\">\n",
       "      <th></th>\n",
       "      <th>Age</th>\n",
       "      <th>Debt</th>\n",
       "      <th>YearsEmployed</th>\n",
       "      <th>CreditScore</th>\n",
       "      <th>Income</th>\n",
       "    </tr>\n",
       "  </thead>\n",
       "  <tbody>\n",
       "    <tr>\n",
       "      <th>count</th>\n",
       "      <td>1.0</td>\n",
       "      <td>1.0</td>\n",
       "      <td>1.0</td>\n",
       "      <td>1.0</td>\n",
       "      <td>1.0</td>\n",
       "    </tr>\n",
       "    <tr>\n",
       "      <th>mean</th>\n",
       "      <td>17.5</td>\n",
       "      <td>22.0</td>\n",
       "      <td>0.0</td>\n",
       "      <td>0.0</td>\n",
       "      <td>100000.0</td>\n",
       "    </tr>\n",
       "    <tr>\n",
       "      <th>std</th>\n",
       "      <td>NaN</td>\n",
       "      <td>NaN</td>\n",
       "      <td>NaN</td>\n",
       "      <td>NaN</td>\n",
       "      <td>NaN</td>\n",
       "    </tr>\n",
       "    <tr>\n",
       "      <th>min</th>\n",
       "      <td>17.5</td>\n",
       "      <td>22.0</td>\n",
       "      <td>0.0</td>\n",
       "      <td>0.0</td>\n",
       "      <td>100000.0</td>\n",
       "    </tr>\n",
       "    <tr>\n",
       "      <th>25%</th>\n",
       "      <td>17.5</td>\n",
       "      <td>22.0</td>\n",
       "      <td>0.0</td>\n",
       "      <td>0.0</td>\n",
       "      <td>100000.0</td>\n",
       "    </tr>\n",
       "    <tr>\n",
       "      <th>50%</th>\n",
       "      <td>17.5</td>\n",
       "      <td>22.0</td>\n",
       "      <td>0.0</td>\n",
       "      <td>0.0</td>\n",
       "      <td>100000.0</td>\n",
       "    </tr>\n",
       "    <tr>\n",
       "      <th>75%</th>\n",
       "      <td>17.5</td>\n",
       "      <td>22.0</td>\n",
       "      <td>0.0</td>\n",
       "      <td>0.0</td>\n",
       "      <td>100000.0</td>\n",
       "    </tr>\n",
       "    <tr>\n",
       "      <th>max</th>\n",
       "      <td>17.5</td>\n",
       "      <td>22.0</td>\n",
       "      <td>0.0</td>\n",
       "      <td>0.0</td>\n",
       "      <td>100000.0</td>\n",
       "    </tr>\n",
       "  </tbody>\n",
       "</table>\n",
       "</div>"
      ],
      "text/plain": [
       "        Age  Debt  YearsEmployed  CreditScore    Income\n",
       "count   1.0   1.0            1.0          1.0       1.0\n",
       "mean   17.5  22.0            0.0          0.0  100000.0\n",
       "std     NaN   NaN            NaN          NaN       NaN\n",
       "min    17.5  22.0            0.0          0.0  100000.0\n",
       "25%    17.5  22.0            0.0          0.0  100000.0\n",
       "50%    17.5  22.0            0.0          0.0  100000.0\n",
       "75%    17.5  22.0            0.0          0.0  100000.0\n",
       "max    17.5  22.0            0.0          0.0  100000.0"
      ]
     },
     "execution_count": 58,
     "metadata": {},
     "output_type": "execute_result"
    }
   ],
   "source": [
    "apps2[apps2['Income']==100000].describe()\n",
    "#thisss"
   ]
  },
  {
   "cell_type": "markdown",
   "metadata": {},
   "source": [
    "We only have one value at the maximum level of `100,000`. This will be addressed in a later section handling outliers in EDA."
   ]
  },
  {
   "cell_type": "markdown",
   "metadata": {},
   "source": [
    "#### Column: _Approval Status_\n",
    "Our final column is our most important. This column is, for sure, our `class attribute` label. This is the value that our machine learning algorithm will want to predict with a high degree of accuracy and recall. <br><br>\n",
    "I will apply a function to this column to _binarize_ it since we know we will need to keep it. That is, I am going to take the string values and convert them to numeric into a single column. "
   ]
  },
  {
   "cell_type": "code",
   "execution_count": 59,
   "metadata": {},
   "outputs": [
    {
     "data": {
      "text/plain": [
       "-    383\n",
       "+    307\n",
       "Name: ApprovalStatus, dtype: int64"
      ]
     },
     "execution_count": 59,
     "metadata": {},
     "output_type": "execute_result"
    }
   ],
   "source": [
    "apps2['ApprovalStatus'].value_counts()"
   ]
  },
  {
   "cell_type": "markdown",
   "metadata": {},
   "source": [
    "<a id= 'eda'></a>\n",
    "\n",
    "---\n",
    "## Exploratory Data Analysis\n",
    "[[Back to contents]](#top) *-* [[Next Section: Data Preprocessing]](#preprocess)<br> <br>\n",
    "This section will look at 4 kinds of analysis on our data set:\n",
    "1. Location Estimates\n",
    "2. Data Variability\n",
    "3. Data Distribution\n",
    "    * Zip Codes\n",
    "4. Correlation"
   ]
  },
  {
   "cell_type": "code",
   "execution_count": 41,
   "metadata": {},
   "outputs": [
    {
     "data": {
      "text/plain": [
       "Index(['Gender', 'Age', 'Debt', 'Married', 'BankCustomer', 'EducationLevel',\n",
       "       'Ethnicity', 'YearsEmployed', 'PriorDefault', 'Employed', 'CreditScore',\n",
       "       'DriversLicense', 'Citizen', 'ZipCode', 'Income', 'ApprovalStatus'],\n",
       "      dtype='object')"
      ]
     },
     "execution_count": 41,
     "metadata": {},
     "output_type": "execute_result"
    }
   ],
   "source": [
    "#look at zip code and get mean and median values for each. \n",
    "#trying to find meaningful groups\n",
    "#pairplots\n",
    "#box plots\n",
    "#histograms\n",
    "#scatterplots\n",
    "#correlation heatmap.\n",
    "# Are we seeing LINE assumptions being met?  \n",
    "apps.columns"
   ]
  },
  {
   "cell_type": "markdown",
   "metadata": {},
   "source": [
    "We are intersted in predicting `Approval Status` for each case. First thing will be to plot everything taking advantage of Seaborn's `sns.pairplot()` method. "
   ]
  },
  {
   "cell_type": "code",
   "execution_count": 53,
   "metadata": {},
   "outputs": [
    {
     "data": {
      "text/plain": [
       "<seaborn.axisgrid.PairGrid at 0x7f8dc5ec51c0>"
      ]
     },
     "execution_count": 53,
     "metadata": {},
     "output_type": "execute_result"
    },
    {
     "data": {
      "image/png": "[encoded data removed]",
      "text/plain": [
       "<Figure size 983.875x900 with 20 Axes>"
      ]
     },
     "metadata": {
      "needs_background": "light"
     },
     "output_type": "display_data"
    }
   ],
   "source": [
    "sns.pairplot(data=apps, hue='ApprovalStatus', corner=True, plot_kws = {'alpha': 0.5})"
   ]
  },
  {
   "cell_type": "code",
   "execution_count": 77,
   "metadata": {},
   "outputs": [
    {
     "name": "stderr",
     "output_type": "stream",
     "text": [
      "/Users/nickvanbergen/opt/anaconda3/lib/python3.8/site-packages/seaborn/categorical.py:1296: UserWarning: 74.3% of the points cannot be placed; you may want to decrease the size of the markers or use stripplot.\n",
      "  warnings.warn(msg, UserWarning)\n",
      "/Users/nickvanbergen/opt/anaconda3/lib/python3.8/site-packages/seaborn/categorical.py:1296: UserWarning: 91.1% of the points cannot be placed; you may want to decrease the size of the markers or use stripplot.\n",
      "  warnings.warn(msg, UserWarning)\n"
     ]
    },
    {
     "data": {
      "text/plain": [
       "<AxesSubplot:xlabel='ApprovalStatus', ylabel='Income'>"
      ]
     },
     "execution_count": 77,
     "metadata": {},
     "output_type": "execute_result"
    },
    {
     "data": {
      "image/png": "[encoded data removed]",
      "text/plain": [
       "<Figure size 432x288 with 1 Axes>"
      ]
     },
     "metadata": {
      "needs_background": "light"
     },
     "output_type": "display_data"
    }
   ],
   "source": [
    "sns.swarmplot(x= 'ApprovalStatus', y = 'Income', data = apps, alpha = .5)"
   ]
  },
  {
   "cell_type": "markdown",
   "metadata": {},
   "source": [
    "## Data Preprocessing"
   ]
  },
  {
   "cell_type": "code",
   "execution_count": 124,
   "metadata": {},
   "outputs": [],
   "source": [
    "#binarize Target variable\n",
    "apps['ApprovalStatus'] = apps['ApprovalStatus'].apply(lambda x: 1 if x == '+' else 0)"
   ]
  },
  {
   "cell_type": "markdown",
   "metadata": {},
   "source": [
    "## Machine Learning Model"
   ]
  },
  {
   "cell_type": "markdown",
   "metadata": {},
   "source": [
    "### Fit Model\n",
    "Off the shelf version of LOGREG"
   ]
  },
  {
   "cell_type": "markdown",
   "metadata": {},
   "source": [
    "### Score Evaluate Model "
   ]
  },
  {
   "cell_type": "markdown",
   "metadata": {},
   "source": [
    "### Grid Search\n",
    "Find a better LOGREG model with tuning"
   ]
  },
  {
   "cell_type": "markdown",
   "metadata": {},
   "source": [
    "<a id=\"conclusions\"></a>\n",
    "## Conclusions and Recommendations\n",
    "---\n",
    "[[Back to contents]](#top)\n",
    "\n",
    "Here we discuss the general conclusions made. "
   ]
  },
  {
   "cell_type": "markdown",
   "metadata": {},
   "source": [
    "Conclusions!\n",
    "</a>"
   ]
  }
 ],
 "metadata": {
  "interpreter": {
   "hash": "407e6b5aa5d978cc64a3e6767fed786b1c1a11a1ef35f35d399a97c4546b9fd9"
  },
  "kernelspec": {
   "display_name": "Python 3.8.8 ('base')",
   "language": "python",
   "name": "python3"
  },
  "language_info": {
   "codemirror_mode": {
    "name": "ipython",
    "version": 3
   },
   "file_extension": ".py",
   "mimetype": "text/x-python",
   "name": "python",
   "nbconvert_exporter": "python",
   "pygments_lexer": "ipython3",
   "version": "3.8.13"
  },
  "orig_nbformat": 4
 },
 "nbformat": 4,
 "nbformat_minor": 2
}
